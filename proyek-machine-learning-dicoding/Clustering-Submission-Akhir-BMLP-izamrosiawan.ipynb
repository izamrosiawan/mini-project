{
 "cells": [
  {
   "cell_type": "code",
   "execution_count": 1,
   "id": "7d454bf7",
   "metadata": {},
   "outputs": [
    {
     "name": "stderr",
     "output_type": "stream",
     "text": [
      "\n",
      "KeyboardInterrupt\n",
      "\n"
     ]
    }
   ],
   "source": [
    "# Import library yang diperlukan\n",
    "import pandas as pd\n",
    "import numpy as np\n",
    "import matplotlib.pyplot as plt\n",
    "import seaborn as sns\n",
    "\n",
    "# Memuat dataset\n",
    "# Ganti 'nama_file.csv' dengan nama file dataset Anda\n",
    "df = pd.read_csv('nama_file.csv')\n",
    "\n",
    "# Menampilkan 5 baris pertama dataset\n",
    "display(df.head())\n",
    "\n",
    "# Menampilkan informasi dataset\n",
    "df.info()\n",
    "\n",
    "# Menampilkan statistik deskriptif dataset\n",
    "display(df.describe(include='all'))\n",
    "\n",
    "# Menampilkan matriks korelasi\n",
    "plt.figure(figsize=(10,8))\n",
    "sns.heatmap(df.corr(numeric_only=True), annot=True, cmap='coolwarm')\n",
    "plt.title('Matriks Korelasi')\n",
    "plt.show()\n",
    "\n",
    "# Menampilkan histogram untuk semua kolom numerik\n",
    "df.hist(figsize=(16,12), bins=30, edgecolor='black')\n",
    "plt.tight_layout()\n",
    "plt.show()\n",
    "\n",
    "# Menampilkan histogram untuk semua kolom kategorikal\n",
    "categorical_cols = df.select_dtypes(include=['object', 'category']).columns\n",
    "for col in categorical_cols:\n",
    "    plt.figure(figsize=(6,4))\n",
    "    df[col].value_counts().plot(kind='bar')\n",
    "    plt.title(f'Histogram {col}')\n",
    "    plt.xlabel(col)\n",
    "    plt.ylabel('Frequency')\n",
    "    plt.xticks(rotation=45, ha='right')\n",
    "    plt.tight_layout()\n",
    "    plt.show()"
   ]
  },
  {
   "cell_type": "code",
   "execution_count": null,
   "id": "b457f5a1",
   "metadata": {},
   "outputs": [],
   "source": []
  }
 ],
 "metadata": {
  "kernelspec": {
   "display_name": "Python 3",
   "language": "python",
   "name": "python3"
  },
  "language_info": {
   "codemirror_mode": {
    "name": "ipython",
    "version": 3
   },
   "file_extension": ".py",
   "mimetype": "text/x-python",
   "name": "python",
   "nbconvert_exporter": "python",
   "pygments_lexer": "ipython3",
   "version": "3.11.9"
  }
 },
 "nbformat": 4,
 "nbformat_minor": 5
}
