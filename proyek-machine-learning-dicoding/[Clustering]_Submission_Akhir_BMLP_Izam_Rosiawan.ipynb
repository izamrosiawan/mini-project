{
  "cells": [
    {
      "cell_type": "markdown",
      "metadata": {
        "id": "0tvAKGat01Sd"
      },
      "source": [
        "# **Penting**\n",
        "- Jangan mengubah atau menambahkan cell text yang sudah disediakan, Anda hanya perlu mengerjakan cell code yang sudah disediakan.\n",
        "- Pastikan seluruh kriteria memiliki output yang sesuai, karena jika tidak ada output dianggap tidak selesai.\n",
        "- Misal, Anda menggunakan df = df.dropna() silakan gunakan df.isnull().sum() sebagai tanda sudah berhasil. Silakan sesuaikan seluruh output dengan perintah yang sudah disediakan.\n",
        "- Pastikan Anda melakukan Run All sebelum mengirimkan submission untuk memastikan seluruh cell berjalan dengan baik.\n",
        "- Pastikan Anda menggunakan variabel df dari awal sampai akhir dan tidak diperbolehkan mengganti nama variabel tersebut.\n",
        "- Hapus simbol pagar (#) pada kode yang bertipe komentar jika Anda menerapkan kriteria tambahan\n",
        "- Biarkan simbol pagar (#) jika Anda tidak menerapkan kriteria tambahan\n",
        "- Pastikan Anda mengerjakan sesuai section yang sudah diberikan tanpa mengubah judul atau header yang disediakan."
      ]
    },
    {
      "cell_type": "markdown",
      "metadata": {
        "id": "sKi5D9qVVJvY"
      },
      "source": [
        "# **INFORMASI DATASET**\n",
        "\n",
        "Dataset ini menyajikan gambaran mendalam mengenai perilaku transaksi dan pola aktivitas keuangan, sehingga sangat ideal untuk eksplorasi **deteksi penipuan (fraud detection)** dan **identifikasi anomali**. Dataset ini mencakup **2.512 sampel data transaksi**, yang mencakup berbagai atribut transaksi, demografi nasabah, dan pola penggunaan.\n",
        "\n",
        "Setiap entri memberikan wawasan komprehensif terhadap perilaku transaksi, memungkinkan analisis untuk **keamanan finansial** dan pengembangan model prediktif.\n",
        "\n",
        "## Fitur Utama\n",
        "\n",
        "- **`TransactionID`**: Pengidentifikasi unik alfanumerik untuk setiap transaksi.  \n",
        "- **`AccountID`**: ID unik untuk setiap akun, dapat memiliki banyak transaksi.  \n",
        "- **`TransactionAmount`**: Nilai transaksi dalam mata uang, mulai dari pengeluaran kecil hingga pembelian besar.  \n",
        "- **`TransactionDate`**: Tanggal dan waktu transaksi terjadi.  \n",
        "- **`TransactionType`**: Tipe transaksi berupa `'Credit'` atau `'Debit'`.  \n",
        "- **`Location`**: Lokasi geografis transaksi (nama kota di Amerika Serikat).  \n",
        "- **`DeviceID`**: ID perangkat yang digunakan dalam transaksi.  \n",
        "- **`IP Address`**: Alamat IPv4 yang digunakan saat transaksi, dapat berubah untuk beberapa akun.  \n",
        "- **`MerchantID`**: ID unik merchant, menunjukkan merchant utama dan anomali transaksi.  \n",
        "- **`AccountBalance`**: Saldo akun setelah transaksi berlangsung.  \n",
        "- **`PreviousTransactionDate`**: Tanggal transaksi terakhir pada akun, berguna untuk menghitung frekuensi transaksi.  \n",
        "- **`Channel`**: Kanal transaksi seperti `Online`, `ATM`, atau `Branch`.  \n",
        "- **`CustomerAge`**: Usia pemilik akun.  \n",
        "- **`CustomerOccupation`**: Profesi pengguna seperti `Dokter`, `Insinyur`, `Mahasiswa`, atau `Pensiunan`.  \n",
        "- **`TransactionDuration`**: Lama waktu transaksi (dalam detik).  \n",
        "- **`LoginAttempts`**: Jumlah upaya login sebelum transaksi—jumlah tinggi bisa mengindikasikan anomali.\n",
        "\n",
        "Tugas kamu adalah membuat model clustering yang selanjutnya akan digunakan untuk membuat model klasifikasi.\n"
      ]
    },
    {
      "cell_type": "markdown",
      "metadata": {
        "id": "fKADPWcFKlj3"
      },
      "source": [
        "# **1. Import Library**\n",
        "Pada tahap ini, Anda perlu mengimpor beberapa pustaka (library) Python yang dibutuhkan untuk analisis data dan pembangunan model machine learning. Semua library yang dibutuhkan harus **import** di **cell** ini, jika ada library yang dijalankan di cell lain maka **submission langsung ditolak**"
      ]
    },
    {
      "cell_type": "code",
      "execution_count": 1,
      "metadata": {},
      "outputs": [],
      "source": [
        "import pandas as pd\n",
        "import numpy as np\n",
        "import matplotlib.pyplot as plt\n",
        "import seaborn as sns\n",
        "from sklearn.preprocessing import MinMaxScaler, StandardScaler, LabelEncoder\n",
        "from sklearn.cluster import KMeans\n",
        "from yellowbrick.cluster import KElbowVisualizer\n",
        "from sklearn.decomposition import PCA\n",
        "from sklearn.metrics import silhouette_score\n",
        "from sklearn.model_selection import train_test_split, GridSearchCV\n",
        "from sklearn.tree import DecisionTreeClassifier\n",
        "from sklearn.ensemble import RandomForestClassifier\n",
        "from sklearn.linear_model import LogisticRegression\n",
        "from sklearn.metrics import classification_report\n",
        "import joblib\n",
        "import warnings\n",
        "warnings.filterwarnings('ignore')"
      ]
    },
    {
      "cell_type": "markdown",
      "metadata": {
        "id": "f3YIEnAFKrKL"
      },
      "source": [
        "# **2. Memuat Dataset**\n",
        "Pada tahap ini, Anda perlu memuat dataset ke dalam notebook lalu mengecek informasi dataset sebelum nantinya dilakukan pembersihan. Hal-hal yang perlu dilakukan pada tahapan ini yaitu:\n",
        "1. **Memahami Struktur Data**\n",
        "   - Dataset harus mengambil referensi wajib digunakan (bisa dilihat [Disini](https://drive.google.com/drive/folders/1Zs7VmPZ-jNwsRlMKH65Ea-LApSwx6lKx?usp=drive_link))\n",
        "   - Melakukan loading dataset ke dalam notebook dan menampilkan 5 baris pertama dengan function `head`.\n",
        "   - Tinjau jumlah baris kolom dan jenis data dalam dataset dengan function `info`.  \n",
        "   - Menampilkan statistik deskriptif dataset dengan menjalankan `describe`.\n",
        "   - Pastikan **setiap function tersebut** memiliki **output pada setiap cell** code. Jika tidak **submission langsung ditolak**\n",
        "   "
      ]
    },
    {
      "cell_type": "markdown",
      "metadata": {
        "id": "JgKXTwx2LMQA"
      },
      "source": [
        "Gunakan code ini untuk melakukan load data secara otomatis tanpa harus download data tersebut secara manual:\n",
        "```python\n",
        "url='https://docs.google.com/spreadsheets/d/e/2PACX-1vTbg5WVW6W3c8SPNUGc3A3AL-AG32TPEQGpdzARfNICMsLFI0LQj0jporhsLCeVhkN5AoRsTkn08AYl/pub?gid=2020477971&single=true&output=csv'\n",
        "df = pd.read_csv(url)\n",
        "```"
      ]
    },
    {
      "cell_type": "markdown",
      "metadata": {
        "id": "9d2RyUOuefWa"
      },
      "source": [
        "Penting: pada kriteria pertama hindari penggunaan print() dan display() karena seluruh fungsi yang digunakan sudah memiliki standar output dan menghasilkan output yang diharapkan.\n",
        "\n",
        "Kriteria 1 akan ditolak ketika:\n",
        "- print(__.head())\n",
        "- display(___.head())\n",
        "dst\n",
        "\n",
        "Kriteria 1 akan diterima ketika Anda menggunakan fungsi yang diminta tanpa menambahkan deskripsi apapun."
      ]
    },
    {
      "cell_type": "code",
      "execution_count": 2,
      "metadata": {
        "id": "-tfuxA86YztE"
      },
      "outputs": [],
      "source": [
        "url='https://docs.google.com/spreadsheets/d/e/2PACX-1vTbg5WVW6W3c8SPNUGc3A3AL-AG32TPEQGpdzARfNICMsLFI0LQj0jporhsLCeVhkN5AoRsTkn08AYl/pub?gid=2020477971&single=true&output=csv'\n",
        "df = pd.read_csv(url)"
      ]
    },
    {
      "cell_type": "code",
      "execution_count": 3,
      "metadata": {
        "id": "GHCGNTyrM5fS"
      },
      "outputs": [
        {
          "data": {
            "application/vnd.microsoft.datawrangler.viewer.v0+json": {
              "columns": [
                {
                  "name": "index",
                  "rawType": "int64",
                  "type": "integer"
                },
                {
                  "name": "TransactionID",
                  "rawType": "object",
                  "type": "string"
                },
                {
                  "name": "AccountID",
                  "rawType": "object",
                  "type": "string"
                },
                {
                  "name": "TransactionAmount",
                  "rawType": "float64",
                  "type": "float"
                },
                {
                  "name": "PreviousTransactionDate",
                  "rawType": "object",
                  "type": "string"
                },
                {
                  "name": "TransactionType",
                  "rawType": "object",
                  "type": "string"
                },
                {
                  "name": "Location",
                  "rawType": "object",
                  "type": "string"
                },
                {
                  "name": "DeviceID",
                  "rawType": "object",
                  "type": "string"
                },
                {
                  "name": "IP Address",
                  "rawType": "object",
                  "type": "string"
                },
                {
                  "name": "MerchantID",
                  "rawType": "object",
                  "type": "string"
                },
                {
                  "name": "Channel",
                  "rawType": "object",
                  "type": "string"
                },
                {
                  "name": "CustomerAge",
                  "rawType": "float64",
                  "type": "float"
                },
                {
                  "name": "CustomerOccupation",
                  "rawType": "object",
                  "type": "string"
                },
                {
                  "name": "TransactionDuration",
                  "rawType": "float64",
                  "type": "float"
                },
                {
                  "name": "LoginAttempts",
                  "rawType": "float64",
                  "type": "float"
                },
                {
                  "name": "AccountBalance",
                  "rawType": "float64",
                  "type": "float"
                },
                {
                  "name": "TransactionDate",
                  "rawType": "object",
                  "type": "string"
                }
              ],
              "ref": "a97a64c7-bcf3-41e8-8123-99a46ae03138",
              "rows": [
                [
                  "0",
                  "TX000001",
                  "AC00128",
                  "14.09",
                  "2023-04-11 16:29:14",
                  "Debit",
                  "San Diego",
                  "D000380",
                  "162.198.218.92",
                  "M015",
                  "ATM",
                  "70.0",
                  "Doctor",
                  "81.0",
                  "1.0",
                  "5112.21",
                  "2024-11-04 8:08:08"
                ],
                [
                  "1",
                  "TX000002",
                  "AC00455",
                  "376.24",
                  "2023-06-27 16:44:19",
                  "Debit",
                  "Houston",
                  "D000051",
                  "13.149.61.4",
                  "M052",
                  "ATM",
                  "68.0",
                  "Doctor",
                  "141.0",
                  "1.0",
                  "13758.91",
                  "2024-11-04 8:09:35"
                ],
                [
                  "2",
                  "TX000003",
                  "AC00019",
                  "126.29",
                  "2023-07-10 18:16:08",
                  "Debit",
                  "Mesa",
                  "D000235",
                  "215.97.143.157",
                  "M009",
                  "Online",
                  "19.0",
                  "Student",
                  "56.0",
                  "1.0",
                  "1122.35",
                  "2024-11-04 8:07:04"
                ],
                [
                  "3",
                  "TX000004",
                  "AC00070",
                  "184.5",
                  "2023-05-05 16:32:11",
                  "Debit",
                  "Raleigh",
                  "D000187",
                  "200.13.225.150",
                  "M002",
                  "Online",
                  "26.0",
                  "Student",
                  "25.0",
                  "1.0",
                  "8569.06",
                  "2024-11-04 8:09:06"
                ],
                [
                  "4",
                  "TX000005",
                  "AC00411",
                  "13.45",
                  "2023-10-16 17:51:24",
                  "Credit",
                  "Atlanta",
                  "D000308",
                  "65.164.3.100",
                  "M091",
                  "Online",
                  null,
                  "Student",
                  "198.0",
                  "1.0",
                  "7429.4",
                  "2024-11-04 8:06:39"
                ]
              ],
              "shape": {
                "columns": 16,
                "rows": 5
              }
            },
            "text/html": [
              "<div>\n",
              "<style scoped>\n",
              "    .dataframe tbody tr th:only-of-type {\n",
              "        vertical-align: middle;\n",
              "    }\n",
              "\n",
              "    .dataframe tbody tr th {\n",
              "        vertical-align: top;\n",
              "    }\n",
              "\n",
              "    .dataframe thead th {\n",
              "        text-align: right;\n",
              "    }\n",
              "</style>\n",
              "<table border=\"1\" class=\"dataframe\">\n",
              "  <thead>\n",
              "    <tr style=\"text-align: right;\">\n",
              "      <th></th>\n",
              "      <th>TransactionID</th>\n",
              "      <th>AccountID</th>\n",
              "      <th>TransactionAmount</th>\n",
              "      <th>PreviousTransactionDate</th>\n",
              "      <th>TransactionType</th>\n",
              "      <th>Location</th>\n",
              "      <th>DeviceID</th>\n",
              "      <th>IP Address</th>\n",
              "      <th>MerchantID</th>\n",
              "      <th>Channel</th>\n",
              "      <th>CustomerAge</th>\n",
              "      <th>CustomerOccupation</th>\n",
              "      <th>TransactionDuration</th>\n",
              "      <th>LoginAttempts</th>\n",
              "      <th>AccountBalance</th>\n",
              "      <th>TransactionDate</th>\n",
              "    </tr>\n",
              "  </thead>\n",
              "  <tbody>\n",
              "    <tr>\n",
              "      <th>0</th>\n",
              "      <td>TX000001</td>\n",
              "      <td>AC00128</td>\n",
              "      <td>14.09</td>\n",
              "      <td>2023-04-11 16:29:14</td>\n",
              "      <td>Debit</td>\n",
              "      <td>San Diego</td>\n",
              "      <td>D000380</td>\n",
              "      <td>162.198.218.92</td>\n",
              "      <td>M015</td>\n",
              "      <td>ATM</td>\n",
              "      <td>70.0</td>\n",
              "      <td>Doctor</td>\n",
              "      <td>81.0</td>\n",
              "      <td>1.0</td>\n",
              "      <td>5112.21</td>\n",
              "      <td>2024-11-04 8:08:08</td>\n",
              "    </tr>\n",
              "    <tr>\n",
              "      <th>1</th>\n",
              "      <td>TX000002</td>\n",
              "      <td>AC00455</td>\n",
              "      <td>376.24</td>\n",
              "      <td>2023-06-27 16:44:19</td>\n",
              "      <td>Debit</td>\n",
              "      <td>Houston</td>\n",
              "      <td>D000051</td>\n",
              "      <td>13.149.61.4</td>\n",
              "      <td>M052</td>\n",
              "      <td>ATM</td>\n",
              "      <td>68.0</td>\n",
              "      <td>Doctor</td>\n",
              "      <td>141.0</td>\n",
              "      <td>1.0</td>\n",
              "      <td>13758.91</td>\n",
              "      <td>2024-11-04 8:09:35</td>\n",
              "    </tr>\n",
              "    <tr>\n",
              "      <th>2</th>\n",
              "      <td>TX000003</td>\n",
              "      <td>AC00019</td>\n",
              "      <td>126.29</td>\n",
              "      <td>2023-07-10 18:16:08</td>\n",
              "      <td>Debit</td>\n",
              "      <td>Mesa</td>\n",
              "      <td>D000235</td>\n",
              "      <td>215.97.143.157</td>\n",
              "      <td>M009</td>\n",
              "      <td>Online</td>\n",
              "      <td>19.0</td>\n",
              "      <td>Student</td>\n",
              "      <td>56.0</td>\n",
              "      <td>1.0</td>\n",
              "      <td>1122.35</td>\n",
              "      <td>2024-11-04 8:07:04</td>\n",
              "    </tr>\n",
              "    <tr>\n",
              "      <th>3</th>\n",
              "      <td>TX000004</td>\n",
              "      <td>AC00070</td>\n",
              "      <td>184.50</td>\n",
              "      <td>2023-05-05 16:32:11</td>\n",
              "      <td>Debit</td>\n",
              "      <td>Raleigh</td>\n",
              "      <td>D000187</td>\n",
              "      <td>200.13.225.150</td>\n",
              "      <td>M002</td>\n",
              "      <td>Online</td>\n",
              "      <td>26.0</td>\n",
              "      <td>Student</td>\n",
              "      <td>25.0</td>\n",
              "      <td>1.0</td>\n",
              "      <td>8569.06</td>\n",
              "      <td>2024-11-04 8:09:06</td>\n",
              "    </tr>\n",
              "    <tr>\n",
              "      <th>4</th>\n",
              "      <td>TX000005</td>\n",
              "      <td>AC00411</td>\n",
              "      <td>13.45</td>\n",
              "      <td>2023-10-16 17:51:24</td>\n",
              "      <td>Credit</td>\n",
              "      <td>Atlanta</td>\n",
              "      <td>D000308</td>\n",
              "      <td>65.164.3.100</td>\n",
              "      <td>M091</td>\n",
              "      <td>Online</td>\n",
              "      <td>NaN</td>\n",
              "      <td>Student</td>\n",
              "      <td>198.0</td>\n",
              "      <td>1.0</td>\n",
              "      <td>7429.40</td>\n",
              "      <td>2024-11-04 8:06:39</td>\n",
              "    </tr>\n",
              "  </tbody>\n",
              "</table>\n",
              "</div>"
            ],
            "text/plain": [
              "  TransactionID AccountID  TransactionAmount PreviousTransactionDate  \\\n",
              "0      TX000001   AC00128              14.09     2023-04-11 16:29:14   \n",
              "1      TX000002   AC00455             376.24     2023-06-27 16:44:19   \n",
              "2      TX000003   AC00019             126.29     2023-07-10 18:16:08   \n",
              "3      TX000004   AC00070             184.50     2023-05-05 16:32:11   \n",
              "4      TX000005   AC00411              13.45     2023-10-16 17:51:24   \n",
              "\n",
              "  TransactionType   Location DeviceID      IP Address MerchantID Channel  \\\n",
              "0           Debit  San Diego  D000380  162.198.218.92       M015     ATM   \n",
              "1           Debit    Houston  D000051     13.149.61.4       M052     ATM   \n",
              "2           Debit       Mesa  D000235  215.97.143.157       M009  Online   \n",
              "3           Debit    Raleigh  D000187  200.13.225.150       M002  Online   \n",
              "4          Credit    Atlanta  D000308    65.164.3.100       M091  Online   \n",
              "\n",
              "   CustomerAge CustomerOccupation  TransactionDuration  LoginAttempts  \\\n",
              "0         70.0             Doctor                 81.0            1.0   \n",
              "1         68.0             Doctor                141.0            1.0   \n",
              "2         19.0            Student                 56.0            1.0   \n",
              "3         26.0            Student                 25.0            1.0   \n",
              "4          NaN            Student                198.0            1.0   \n",
              "\n",
              "   AccountBalance     TransactionDate  \n",
              "0         5112.21  2024-11-04 8:08:08  \n",
              "1        13758.91  2024-11-04 8:09:35  \n",
              "2         1122.35  2024-11-04 8:07:04  \n",
              "3         8569.06  2024-11-04 8:09:06  \n",
              "4         7429.40  2024-11-04 8:06:39  "
            ]
          },
          "execution_count": 3,
          "metadata": {},
          "output_type": "execute_result"
        }
      ],
      "source": [
        "df.head()"
      ]
    },
    {
      "cell_type": "code",
      "execution_count": 4,
      "metadata": {
        "id": "0MgRVyMLnR5h"
      },
      "outputs": [
        {
          "name": "stdout",
          "output_type": "stream",
          "text": [
            "<class 'pandas.core.frame.DataFrame'>\n",
            "RangeIndex: 2537 entries, 0 to 2536\n",
            "Data columns (total 16 columns):\n",
            " #   Column                   Non-Null Count  Dtype  \n",
            "---  ------                   --------------  -----  \n",
            " 0   TransactionID            2508 non-null   object \n",
            " 1   AccountID                2516 non-null   object \n",
            " 2   TransactionAmount        2511 non-null   float64\n",
            " 3   PreviousTransactionDate  2509 non-null   object \n",
            " 4   TransactionType          2507 non-null   object \n",
            " 5   Location                 2507 non-null   object \n",
            " 6   DeviceID                 2507 non-null   object \n",
            " 7   IP Address               2517 non-null   object \n",
            " 8   MerchantID               2514 non-null   object \n",
            " 9   Channel                  2510 non-null   object \n",
            " 10  CustomerAge              2519 non-null   float64\n",
            " 11  CustomerOccupation       2514 non-null   object \n",
            " 12  TransactionDuration      2511 non-null   float64\n",
            " 13  LoginAttempts            2516 non-null   float64\n",
            " 14  AccountBalance           2510 non-null   float64\n",
            " 15  TransactionDate          2513 non-null   object \n",
            "dtypes: float64(5), object(11)\n",
            "memory usage: 317.3+ KB\n"
          ]
        }
      ],
      "source": [
        "df.info()"
      ]
    },
    {
      "cell_type": "code",
      "execution_count": 5,
      "metadata": {
        "id": "hN9KsJPonVKT"
      },
      "outputs": [
        {
          "data": {
            "application/vnd.microsoft.datawrangler.viewer.v0+json": {
              "columns": [
                {
                  "name": "index",
                  "rawType": "object",
                  "type": "string"
                },
                {
                  "name": "TransactionAmount",
                  "rawType": "float64",
                  "type": "float"
                },
                {
                  "name": "CustomerAge",
                  "rawType": "float64",
                  "type": "float"
                },
                {
                  "name": "TransactionDuration",
                  "rawType": "float64",
                  "type": "float"
                },
                {
                  "name": "LoginAttempts",
                  "rawType": "float64",
                  "type": "float"
                },
                {
                  "name": "AccountBalance",
                  "rawType": "float64",
                  "type": "float"
                }
              ],
              "ref": "cf4cdd60-7fc2-4959-98ef-7fa386281fac",
              "rows": [
                [
                  "count",
                  "2511.0",
                  "2519.0",
                  "2511.0",
                  "2516.0",
                  "2510.0"
                ],
                [
                  "mean",
                  "297.6564675428116",
                  "44.67844382691544",
                  "119.42293906810036",
                  "1.1216216216216217",
                  "5113.438123505975"
                ],
                [
                  "std",
                  "292.2303674691292",
                  "17.837359161338775",
                  "70.07851271045237",
                  "0.5944688003469968",
                  "3897.975860649872"
                ],
                [
                  "min",
                  "0.26",
                  "18.0",
                  "10.0",
                  "1.0",
                  "101.25"
                ],
                [
                  "25%",
                  "81.31",
                  "27.0",
                  "63.0",
                  "1.0",
                  "1504.7275"
                ],
                [
                  "50%",
                  "211.36",
                  "45.0",
                  "112.0",
                  "1.0",
                  "4734.110000000001"
                ],
                [
                  "75%",
                  "413.105",
                  "59.0",
                  "161.0",
                  "1.0",
                  "7672.6875"
                ],
                [
                  "max",
                  "1919.11",
                  "80.0",
                  "300.0",
                  "5.0",
                  "14977.99"
                ]
              ],
              "shape": {
                "columns": 5,
                "rows": 8
              }
            },
            "text/html": [
              "<div>\n",
              "<style scoped>\n",
              "    .dataframe tbody tr th:only-of-type {\n",
              "        vertical-align: middle;\n",
              "    }\n",
              "\n",
              "    .dataframe tbody tr th {\n",
              "        vertical-align: top;\n",
              "    }\n",
              "\n",
              "    .dataframe thead th {\n",
              "        text-align: right;\n",
              "    }\n",
              "</style>\n",
              "<table border=\"1\" class=\"dataframe\">\n",
              "  <thead>\n",
              "    <tr style=\"text-align: right;\">\n",
              "      <th></th>\n",
              "      <th>TransactionAmount</th>\n",
              "      <th>CustomerAge</th>\n",
              "      <th>TransactionDuration</th>\n",
              "      <th>LoginAttempts</th>\n",
              "      <th>AccountBalance</th>\n",
              "    </tr>\n",
              "  </thead>\n",
              "  <tbody>\n",
              "    <tr>\n",
              "      <th>count</th>\n",
              "      <td>2511.000000</td>\n",
              "      <td>2519.000000</td>\n",
              "      <td>2511.000000</td>\n",
              "      <td>2516.000000</td>\n",
              "      <td>2510.000000</td>\n",
              "    </tr>\n",
              "    <tr>\n",
              "      <th>mean</th>\n",
              "      <td>297.656468</td>\n",
              "      <td>44.678444</td>\n",
              "      <td>119.422939</td>\n",
              "      <td>1.121622</td>\n",
              "      <td>5113.438124</td>\n",
              "    </tr>\n",
              "    <tr>\n",
              "      <th>std</th>\n",
              "      <td>292.230367</td>\n",
              "      <td>17.837359</td>\n",
              "      <td>70.078513</td>\n",
              "      <td>0.594469</td>\n",
              "      <td>3897.975861</td>\n",
              "    </tr>\n",
              "    <tr>\n",
              "      <th>min</th>\n",
              "      <td>0.260000</td>\n",
              "      <td>18.000000</td>\n",
              "      <td>10.000000</td>\n",
              "      <td>1.000000</td>\n",
              "      <td>101.250000</td>\n",
              "    </tr>\n",
              "    <tr>\n",
              "      <th>25%</th>\n",
              "      <td>81.310000</td>\n",
              "      <td>27.000000</td>\n",
              "      <td>63.000000</td>\n",
              "      <td>1.000000</td>\n",
              "      <td>1504.727500</td>\n",
              "    </tr>\n",
              "    <tr>\n",
              "      <th>50%</th>\n",
              "      <td>211.360000</td>\n",
              "      <td>45.000000</td>\n",
              "      <td>112.000000</td>\n",
              "      <td>1.000000</td>\n",
              "      <td>4734.110000</td>\n",
              "    </tr>\n",
              "    <tr>\n",
              "      <th>75%</th>\n",
              "      <td>413.105000</td>\n",
              "      <td>59.000000</td>\n",
              "      <td>161.000000</td>\n",
              "      <td>1.000000</td>\n",
              "      <td>7672.687500</td>\n",
              "    </tr>\n",
              "    <tr>\n",
              "      <th>max</th>\n",
              "      <td>1919.110000</td>\n",
              "      <td>80.000000</td>\n",
              "      <td>300.000000</td>\n",
              "      <td>5.000000</td>\n",
              "      <td>14977.990000</td>\n",
              "    </tr>\n",
              "  </tbody>\n",
              "</table>\n",
              "</div>"
            ],
            "text/plain": [
              "       TransactionAmount  CustomerAge  TransactionDuration  LoginAttempts  \\\n",
              "count        2511.000000  2519.000000          2511.000000    2516.000000   \n",
              "mean          297.656468    44.678444           119.422939       1.121622   \n",
              "std           292.230367    17.837359            70.078513       0.594469   \n",
              "min             0.260000    18.000000            10.000000       1.000000   \n",
              "25%            81.310000    27.000000            63.000000       1.000000   \n",
              "50%           211.360000    45.000000           112.000000       1.000000   \n",
              "75%           413.105000    59.000000           161.000000       1.000000   \n",
              "max          1919.110000    80.000000           300.000000       5.000000   \n",
              "\n",
              "       AccountBalance  \n",
              "count     2510.000000  \n",
              "mean      5113.438124  \n",
              "std       3897.975861  \n",
              "min        101.250000  \n",
              "25%       1504.727500  \n",
              "50%       4734.110000  \n",
              "75%       7672.687500  \n",
              "max      14977.990000  "
            ]
          },
          "execution_count": 5,
          "metadata": {},
          "output_type": "execute_result"
        }
      ],
      "source": [
        "df.describe()"
      ]
    },
    {
      "cell_type": "markdown",
      "metadata": {
        "id": "DNOEZk24uiXu"
      },
      "source": [
        "(Opsional) Memuat Dataset dan Melakukan Exploratory Data Analysis (EDA) [Skilled]\n",
        "\n",
        "**Biarkan kosong jika tidak menerapkan kriteria skilled**"
      ]
    },
    {
      "cell_type": "code",
      "execution_count": 6,
      "metadata": {
        "id": "DGAJlKExnYAt"
      },
      "outputs": [
        {
          "data": {
            "application/vnd.microsoft.datawrangler.viewer.v0+json": {
              "columns": [
                {
                  "name": "index",
                  "rawType": "object",
                  "type": "string"
                },
                {
                  "name": "TransactionAmount",
                  "rawType": "float64",
                  "type": "float"
                },
                {
                  "name": "CustomerAge",
                  "rawType": "float64",
                  "type": "float"
                },
                {
                  "name": "TransactionDuration",
                  "rawType": "float64",
                  "type": "float"
                },
                {
                  "name": "LoginAttempts",
                  "rawType": "float64",
                  "type": "float"
                },
                {
                  "name": "AccountBalance",
                  "rawType": "float64",
                  "type": "float"
                }
              ],
              "ref": "f40ea54f-5299-4486-a447-32176e60ece5",
              "rows": [
                [
                  "TransactionAmount",
                  "1.0",
                  "-0.024428462177071033",
                  "0.004782112353985885",
                  "-0.007397231174199807",
                  "-0.026309727958081418"
                ],
                [
                  "CustomerAge",
                  "-0.024428462177071033",
                  "1.0",
                  "-0.009852427405277092",
                  "0.00787557258593503",
                  "0.3211611768325769"
                ],
                [
                  "TransactionDuration",
                  "0.004782112353985885",
                  "-0.009852427405277092",
                  "1.0",
                  "0.030075854378830716",
                  "0.006859358621002442"
                ],
                [
                  "LoginAttempts",
                  "-0.007397231174199807",
                  "0.00787557258593503",
                  "0.030075854378830716",
                  "1.0",
                  "0.009087566869794209"
                ],
                [
                  "AccountBalance",
                  "-0.026309727958081418",
                  "0.3211611768325769",
                  "0.006859358621002442",
                  "0.009087566869794209",
                  "1.0"
                ]
              ],
              "shape": {
                "columns": 5,
                "rows": 5
              }
            },
            "text/html": [
              "<div>\n",
              "<style scoped>\n",
              "    .dataframe tbody tr th:only-of-type {\n",
              "        vertical-align: middle;\n",
              "    }\n",
              "\n",
              "    .dataframe tbody tr th {\n",
              "        vertical-align: top;\n",
              "    }\n",
              "\n",
              "    .dataframe thead th {\n",
              "        text-align: right;\n",
              "    }\n",
              "</style>\n",
              "<table border=\"1\" class=\"dataframe\">\n",
              "  <thead>\n",
              "    <tr style=\"text-align: right;\">\n",
              "      <th></th>\n",
              "      <th>TransactionAmount</th>\n",
              "      <th>CustomerAge</th>\n",
              "      <th>TransactionDuration</th>\n",
              "      <th>LoginAttempts</th>\n",
              "      <th>AccountBalance</th>\n",
              "    </tr>\n",
              "  </thead>\n",
              "  <tbody>\n",
              "    <tr>\n",
              "      <th>TransactionAmount</th>\n",
              "      <td>1.000000</td>\n",
              "      <td>-0.024428</td>\n",
              "      <td>0.004782</td>\n",
              "      <td>-0.007397</td>\n",
              "      <td>-0.026310</td>\n",
              "    </tr>\n",
              "    <tr>\n",
              "      <th>CustomerAge</th>\n",
              "      <td>-0.024428</td>\n",
              "      <td>1.000000</td>\n",
              "      <td>-0.009852</td>\n",
              "      <td>0.007876</td>\n",
              "      <td>0.321161</td>\n",
              "    </tr>\n",
              "    <tr>\n",
              "      <th>TransactionDuration</th>\n",
              "      <td>0.004782</td>\n",
              "      <td>-0.009852</td>\n",
              "      <td>1.000000</td>\n",
              "      <td>0.030076</td>\n",
              "      <td>0.006859</td>\n",
              "    </tr>\n",
              "    <tr>\n",
              "      <th>LoginAttempts</th>\n",
              "      <td>-0.007397</td>\n",
              "      <td>0.007876</td>\n",
              "      <td>0.030076</td>\n",
              "      <td>1.000000</td>\n",
              "      <td>0.009088</td>\n",
              "    </tr>\n",
              "    <tr>\n",
              "      <th>AccountBalance</th>\n",
              "      <td>-0.026310</td>\n",
              "      <td>0.321161</td>\n",
              "      <td>0.006859</td>\n",
              "      <td>0.009088</td>\n",
              "      <td>1.000000</td>\n",
              "    </tr>\n",
              "  </tbody>\n",
              "</table>\n",
              "</div>"
            ],
            "text/plain": [
              "                     TransactionAmount  CustomerAge  TransactionDuration  \\\n",
              "TransactionAmount             1.000000    -0.024428             0.004782   \n",
              "CustomerAge                  -0.024428     1.000000            -0.009852   \n",
              "TransactionDuration           0.004782    -0.009852             1.000000   \n",
              "LoginAttempts                -0.007397     0.007876             0.030076   \n",
              "AccountBalance               -0.026310     0.321161             0.006859   \n",
              "\n",
              "                     LoginAttempts  AccountBalance  \n",
              "TransactionAmount        -0.007397       -0.026310  \n",
              "CustomerAge               0.007876        0.321161  \n",
              "TransactionDuration       0.030076        0.006859  \n",
              "LoginAttempts             1.000000        0.009088  \n",
              "AccountBalance            0.009088        1.000000  "
            ]
          },
          "execution_count": 6,
          "metadata": {},
          "output_type": "execute_result"
        }
      ],
      "source": [
        "import numpy as np\n",
        "\n",
        "num_cols = df.select_dtypes(include=[np.number]).columns.tolist()\n",
        "df[num_cols].corr() if num_cols else 'Tidak ada kolom numerik untuk korelasi.'"
      ]
    },
    {
      "cell_type": "code",
      "execution_count": 7,
      "metadata": {
        "id": "kcBn9v4Fn8FO"
      },
      "outputs": [
        {
          "data": {
            "image/png": "[encoded data removed]",
            "text/plain": [
              "<Figure size 1500x1000 with 6 Axes>"
            ]
          },
          "metadata": {},
          "output_type": "display_data"
        }
      ],
      "source": [
        "# Menampilkan histogram untuk semua kolom numerik (Opsional Skilled 1)\n",
        "\n",
        "df.hist(figsize=(15, 10))\n",
        "plt.tight_layout()\n",
        "plt.show()"
      ]
    },
    {
      "cell_type": "markdown",
      "metadata": {
        "id": "k-S35baFuwaP"
      },
      "source": [
        "(Opsional) Memuat Dataset dan Melakukan Exploratory Data Analysis (EDA) [Advanced]\n",
        "\n",
        "**Biarkan kosong jika tidak menerapkan kriteria advanced**"
      ]
    },
    {
      "cell_type": "code",
      "execution_count": 8,
      "metadata": {
        "id": "GVIuT8VDokKn"
      },
      "outputs": [],
      "source": [
        "# Visualisasi yang lebih informatif (Opsional Advanced 1)"
      ]
    },
    {
      "cell_type": "markdown",
      "metadata": {
        "id": "cSemyzQHU0On"
      },
      "source": [
        "# **3. Pembersihan dan Pra Pemrosesan Data**\n",
        "\n",
        "Pada tahap ini, Anda akan melakukan **Pembersihan Dataset** untuk menjadikan dataset mudah diintepretasi dan bisa dilatih. Hal-hal yang wajib kamu lakukan yaitu:\n",
        "\n",
        "1. **Mengecek dataset** menggunakan isnull().sum() dan duplicated().sum().\n",
        "2. Melakukan feature scaling menggunakan `MinMaxScaler()` atau `StandardScalar()` untuk fitur numerik.\n",
        "3. Melakukan feature encoding menggunakan `LabelEncoder()` untuk fitur kategorikal.\n",
        "4. Melakukan drop pada kolom id.\n",
        "5. **Ketentuan Cell Code**\n",
        "   - Pastikan **setiap pemeriksaan tersebut** memiliki **output pada cell-nya**. Jika tidak **submission langsung ditolak**\n"
      ]
    },
    {
      "cell_type": "code",
      "execution_count": 9,
      "metadata": {
        "id": "dKeejtvxM6X1"
      },
      "outputs": [
        {
          "data": {
            "application/vnd.microsoft.datawrangler.viewer.v0+json": {
              "columns": [
                {
                  "name": "index",
                  "rawType": "object",
                  "type": "string"
                },
                {
                  "name": "0",
                  "rawType": "int64",
                  "type": "integer"
                }
              ],
              "ref": "88983538-04a5-48c6-8f97-c026d691abc4",
              "rows": [
                [
                  "TransactionID",
                  "29"
                ],
                [
                  "AccountID",
                  "21"
                ],
                [
                  "TransactionAmount",
                  "26"
                ],
                [
                  "PreviousTransactionDate",
                  "28"
                ],
                [
                  "TransactionType",
                  "30"
                ],
                [
                  "Location",
                  "30"
                ],
                [
                  "DeviceID",
                  "30"
                ],
                [
                  "IP Address",
                  "20"
                ],
                [
                  "MerchantID",
                  "23"
                ],
                [
                  "Channel",
                  "27"
                ],
                [
                  "CustomerAge",
                  "18"
                ],
                [
                  "CustomerOccupation",
                  "23"
                ],
                [
                  "TransactionDuration",
                  "26"
                ],
                [
                  "LoginAttempts",
                  "21"
                ],
                [
                  "AccountBalance",
                  "27"
                ],
                [
                  "TransactionDate",
                  "24"
                ]
              ],
              "shape": {
                "columns": 1,
                "rows": 16
              }
            },
            "text/plain": [
              "TransactionID              29\n",
              "AccountID                  21\n",
              "TransactionAmount          26\n",
              "PreviousTransactionDate    28\n",
              "TransactionType            30\n",
              "Location                   30\n",
              "DeviceID                   30\n",
              "IP Address                 20\n",
              "MerchantID                 23\n",
              "Channel                    27\n",
              "CustomerAge                18\n",
              "CustomerOccupation         23\n",
              "TransactionDuration        26\n",
              "LoginAttempts              21\n",
              "AccountBalance             27\n",
              "TransactionDate            24\n",
              "dtype: int64"
            ]
          },
          "execution_count": 9,
          "metadata": {},
          "output_type": "execute_result"
        }
      ],
      "source": [
        "df.isnull().sum()"
      ]
    },
    {
      "cell_type": "code",
      "execution_count": 10,
      "metadata": {
        "id": "2RrBA92mpHBc"
      },
      "outputs": [
        {
          "data": {
            "text/plain": [
              "np.int64(21)"
            ]
          },
          "execution_count": 10,
          "metadata": {},
          "output_type": "execute_result"
        }
      ],
      "source": [
        "df.duplicated().sum()"
      ]
    },
    {
      "cell_type": "code",
      "execution_count": 11,
      "metadata": {
        "id": "G7WXozOgpJp-"
      },
      "outputs": [
        {
          "data": {
            "application/vnd.microsoft.datawrangler.viewer.v0+json": {
              "columns": [
                {
                  "name": "index",
                  "rawType": "int64",
                  "type": "integer"
                },
                {
                  "name": "TransactionID",
                  "rawType": "object",
                  "type": "string"
                },
                {
                  "name": "AccountID",
                  "rawType": "object",
                  "type": "string"
                },
                {
                  "name": "TransactionAmount",
                  "rawType": "float64",
                  "type": "float"
                },
                {
                  "name": "PreviousTransactionDate",
                  "rawType": "object",
                  "type": "string"
                },
                {
                  "name": "TransactionType",
                  "rawType": "object",
                  "type": "string"
                },
                {
                  "name": "Location",
                  "rawType": "object",
                  "type": "string"
                },
                {
                  "name": "DeviceID",
                  "rawType": "object",
                  "type": "string"
                },
                {
                  "name": "IP Address",
                  "rawType": "object",
                  "type": "string"
                },
                {
                  "name": "MerchantID",
                  "rawType": "object",
                  "type": "string"
                },
                {
                  "name": "Channel",
                  "rawType": "object",
                  "type": "string"
                },
                {
                  "name": "CustomerAge",
                  "rawType": "float64",
                  "type": "float"
                },
                {
                  "name": "CustomerOccupation",
                  "rawType": "object",
                  "type": "string"
                },
                {
                  "name": "TransactionDuration",
                  "rawType": "float64",
                  "type": "float"
                },
                {
                  "name": "LoginAttempts",
                  "rawType": "float64",
                  "type": "float"
                },
                {
                  "name": "AccountBalance",
                  "rawType": "float64",
                  "type": "float"
                },
                {
                  "name": "TransactionDate",
                  "rawType": "object",
                  "type": "string"
                }
              ],
              "ref": "9f8516ec-736d-472b-9bb1-884005dd90c0",
              "rows": [
                [
                  "0",
                  "TX000001",
                  "AC00128",
                  "0.007207441957422414",
                  "2023-04-11 16:29:14",
                  "Debit",
                  "San Diego",
                  "D000380",
                  "162.198.218.92",
                  "M015",
                  "ATM",
                  "0.8387096774193548",
                  "Doctor",
                  "0.24482758620689654",
                  "0.0",
                  "0.33683185966818",
                  "2024-11-04 8:08:08"
                ],
                [
                  "1",
                  "TX000002",
                  "AC00455",
                  "0.1959402767282487",
                  "2023-06-27 16:44:19",
                  "Debit",
                  "Houston",
                  "D000051",
                  "13.149.61.4",
                  "M052",
                  "ATM",
                  "0.8064516129032258",
                  "Doctor",
                  "0.45172413793103444",
                  "0.0",
                  "0.9180546275595326",
                  "2024-11-04 8:09:35"
                ],
                [
                  "2",
                  "TX000003",
                  "AC00019",
                  "0.0656799645621075",
                  "2023-07-10 18:16:08",
                  "Debit",
                  "Mesa",
                  "D000235",
                  "215.97.143.157",
                  "M009",
                  "Online",
                  "0.016129032258064557",
                  "Student",
                  "0.1586206896551724",
                  "0.0",
                  "0.06863734931174438",
                  "2024-11-04 8:07:04"
                ],
                [
                  "3",
                  "TX000004",
                  "AC00070",
                  "0.0960158428225239",
                  "2023-05-05 16:32:11",
                  "Debit",
                  "Raleigh",
                  "D000187",
                  "200.13.225.150",
                  "M002",
                  "Online",
                  "0.12903225806451613",
                  "Student",
                  "0.05172413793103449",
                  "0.0",
                  "0.569197956003802",
                  "2024-11-04 8:09:06"
                ],
                [
                  "4",
                  "TX000005",
                  "AC00411",
                  "0.006873908851655939",
                  "2023-10-16 17:51:24",
                  "Credit",
                  "Atlanta",
                  "D000308",
                  "65.164.3.100",
                  "M091",
                  "Online",
                  null,
                  "Student",
                  "0.6482758620689656",
                  "0.0",
                  "0.4925911187531677",
                  "2024-11-04 8:06:39"
                ]
              ],
              "shape": {
                "columns": 16,
                "rows": 5
              }
            },
            "text/html": [
              "<div>\n",
              "<style scoped>\n",
              "    .dataframe tbody tr th:only-of-type {\n",
              "        vertical-align: middle;\n",
              "    }\n",
              "\n",
              "    .dataframe tbody tr th {\n",
              "        vertical-align: top;\n",
              "    }\n",
              "\n",
              "    .dataframe thead th {\n",
              "        text-align: right;\n",
              "    }\n",
              "</style>\n",
              "<table border=\"1\" class=\"dataframe\">\n",
              "  <thead>\n",
              "    <tr style=\"text-align: right;\">\n",
              "      <th></th>\n",
              "      <th>TransactionID</th>\n",
              "      <th>AccountID</th>\n",
              "      <th>TransactionAmount</th>\n",
              "      <th>PreviousTransactionDate</th>\n",
              "      <th>TransactionType</th>\n",
              "      <th>Location</th>\n",
              "      <th>DeviceID</th>\n",
              "      <th>IP Address</th>\n",
              "      <th>MerchantID</th>\n",
              "      <th>Channel</th>\n",
              "      <th>CustomerAge</th>\n",
              "      <th>CustomerOccupation</th>\n",
              "      <th>TransactionDuration</th>\n",
              "      <th>LoginAttempts</th>\n",
              "      <th>AccountBalance</th>\n",
              "      <th>TransactionDate</th>\n",
              "    </tr>\n",
              "  </thead>\n",
              "  <tbody>\n",
              "    <tr>\n",
              "      <th>0</th>\n",
              "      <td>TX000001</td>\n",
              "      <td>AC00128</td>\n",
              "      <td>0.007207</td>\n",
              "      <td>2023-04-11 16:29:14</td>\n",
              "      <td>Debit</td>\n",
              "      <td>San Diego</td>\n",
              "      <td>D000380</td>\n",
              "      <td>162.198.218.92</td>\n",
              "      <td>M015</td>\n",
              "      <td>ATM</td>\n",
              "      <td>0.838710</td>\n",
              "      <td>Doctor</td>\n",
              "      <td>0.244828</td>\n",
              "      <td>0.0</td>\n",
              "      <td>0.336832</td>\n",
              "      <td>2024-11-04 8:08:08</td>\n",
              "    </tr>\n",
              "    <tr>\n",
              "      <th>1</th>\n",
              "      <td>TX000002</td>\n",
              "      <td>AC00455</td>\n",
              "      <td>0.195940</td>\n",
              "      <td>2023-06-27 16:44:19</td>\n",
              "      <td>Debit</td>\n",
              "      <td>Houston</td>\n",
              "      <td>D000051</td>\n",
              "      <td>13.149.61.4</td>\n",
              "      <td>M052</td>\n",
              "      <td>ATM</td>\n",
              "      <td>0.806452</td>\n",
              "      <td>Doctor</td>\n",
              "      <td>0.451724</td>\n",
              "      <td>0.0</td>\n",
              "      <td>0.918055</td>\n",
              "      <td>2024-11-04 8:09:35</td>\n",
              "    </tr>\n",
              "    <tr>\n",
              "      <th>2</th>\n",
              "      <td>TX000003</td>\n",
              "      <td>AC00019</td>\n",
              "      <td>0.065680</td>\n",
              "      <td>2023-07-10 18:16:08</td>\n",
              "      <td>Debit</td>\n",
              "      <td>Mesa</td>\n",
              "      <td>D000235</td>\n",
              "      <td>215.97.143.157</td>\n",
              "      <td>M009</td>\n",
              "      <td>Online</td>\n",
              "      <td>0.016129</td>\n",
              "      <td>Student</td>\n",
              "      <td>0.158621</td>\n",
              "      <td>0.0</td>\n",
              "      <td>0.068637</td>\n",
              "      <td>2024-11-04 8:07:04</td>\n",
              "    </tr>\n",
              "    <tr>\n",
              "      <th>3</th>\n",
              "      <td>TX000004</td>\n",
              "      <td>AC00070</td>\n",
              "      <td>0.096016</td>\n",
              "      <td>2023-05-05 16:32:11</td>\n",
              "      <td>Debit</td>\n",
              "      <td>Raleigh</td>\n",
              "      <td>D000187</td>\n",
              "      <td>200.13.225.150</td>\n",
              "      <td>M002</td>\n",
              "      <td>Online</td>\n",
              "      <td>0.129032</td>\n",
              "      <td>Student</td>\n",
              "      <td>0.051724</td>\n",
              "      <td>0.0</td>\n",
              "      <td>0.569198</td>\n",
              "      <td>2024-11-04 8:09:06</td>\n",
              "    </tr>\n",
              "    <tr>\n",
              "      <th>4</th>\n",
              "      <td>TX000005</td>\n",
              "      <td>AC00411</td>\n",
              "      <td>0.006874</td>\n",
              "      <td>2023-10-16 17:51:24</td>\n",
              "      <td>Credit</td>\n",
              "      <td>Atlanta</td>\n",
              "      <td>D000308</td>\n",
              "      <td>65.164.3.100</td>\n",
              "      <td>M091</td>\n",
              "      <td>Online</td>\n",
              "      <td>NaN</td>\n",
              "      <td>Student</td>\n",
              "      <td>0.648276</td>\n",
              "      <td>0.0</td>\n",
              "      <td>0.492591</td>\n",
              "      <td>2024-11-04 8:06:39</td>\n",
              "    </tr>\n",
              "  </tbody>\n",
              "</table>\n",
              "</div>"
            ],
            "text/plain": [
              "  TransactionID AccountID  TransactionAmount PreviousTransactionDate  \\\n",
              "0      TX000001   AC00128           0.007207     2023-04-11 16:29:14   \n",
              "1      TX000002   AC00455           0.195940     2023-06-27 16:44:19   \n",
              "2      TX000003   AC00019           0.065680     2023-07-10 18:16:08   \n",
              "3      TX000004   AC00070           0.096016     2023-05-05 16:32:11   \n",
              "4      TX000005   AC00411           0.006874     2023-10-16 17:51:24   \n",
              "\n",
              "  TransactionType   Location DeviceID      IP Address MerchantID Channel  \\\n",
              "0           Debit  San Diego  D000380  162.198.218.92       M015     ATM   \n",
              "1           Debit    Houston  D000051     13.149.61.4       M052     ATM   \n",
              "2           Debit       Mesa  D000235  215.97.143.157       M009  Online   \n",
              "3           Debit    Raleigh  D000187  200.13.225.150       M002  Online   \n",
              "4          Credit    Atlanta  D000308    65.164.3.100       M091  Online   \n",
              "\n",
              "   CustomerAge CustomerOccupation  TransactionDuration  LoginAttempts  \\\n",
              "0     0.838710             Doctor             0.244828            0.0   \n",
              "1     0.806452             Doctor             0.451724            0.0   \n",
              "2     0.016129            Student             0.158621            0.0   \n",
              "3     0.129032            Student             0.051724            0.0   \n",
              "4          NaN            Student             0.648276            0.0   \n",
              "\n",
              "   AccountBalance     TransactionDate  \n",
              "0        0.336832  2024-11-04 8:08:08  \n",
              "1        0.918055  2024-11-04 8:09:35  \n",
              "2        0.068637  2024-11-04 8:07:04  \n",
              "3        0.569198  2024-11-04 8:09:06  \n",
              "4        0.492591  2024-11-04 8:06:39  "
            ]
          },
          "execution_count": 11,
          "metadata": {},
          "output_type": "execute_result"
        }
      ],
      "source": [
        "# Melakukan feature scaling menggunakan MinMaxScaler() atau StandardScalar() untuk fitur numerik.\n",
        "# Pastikan kamu menggunakan function head setelah melalukan scaling.\n",
        "\n",
        "numerical_cols = df.select_dtypes(include=[np.number]).columns.tolist()\n",
        "scaler = MinMaxScaler()\n",
        "df[numerical_cols] = scaler.fit_transform(df[numerical_cols])\n",
        "df.head()"
      ]
    },
    {
      "cell_type": "code",
      "execution_count": 12,
      "metadata": {
        "id": "TGLR0NTwsMOp"
      },
      "outputs": [
        {
          "data": {
            "application/vnd.microsoft.datawrangler.viewer.v0+json": {
              "columns": [
                {
                  "name": "index",
                  "rawType": "int64",
                  "type": "integer"
                },
                {
                  "name": "TransactionAmount",
                  "rawType": "float64",
                  "type": "float"
                },
                {
                  "name": "PreviousTransactionDate",
                  "rawType": "object",
                  "type": "string"
                },
                {
                  "name": "TransactionType",
                  "rawType": "object",
                  "type": "string"
                },
                {
                  "name": "Location",
                  "rawType": "object",
                  "type": "string"
                },
                {
                  "name": "Channel",
                  "rawType": "object",
                  "type": "string"
                },
                {
                  "name": "CustomerAge",
                  "rawType": "float64",
                  "type": "float"
                },
                {
                  "name": "CustomerOccupation",
                  "rawType": "object",
                  "type": "string"
                },
                {
                  "name": "TransactionDuration",
                  "rawType": "float64",
                  "type": "float"
                },
                {
                  "name": "LoginAttempts",
                  "rawType": "float64",
                  "type": "float"
                },
                {
                  "name": "AccountBalance",
                  "rawType": "float64",
                  "type": "float"
                },
                {
                  "name": "TransactionDate",
                  "rawType": "object",
                  "type": "string"
                }
              ],
              "ref": "7e543f08-c406-403a-ab7f-61d18cda6897",
              "rows": [
                [
                  "0",
                  "0.007207441957422414",
                  "2023-04-11 16:29:14",
                  "Debit",
                  "San Diego",
                  "ATM",
                  "0.8387096774193548",
                  "Doctor",
                  "0.24482758620689654",
                  "0.0",
                  "0.33683185966818",
                  "2024-11-04 8:08:08"
                ],
                [
                  "1",
                  "0.1959402767282487",
                  "2023-06-27 16:44:19",
                  "Debit",
                  "Houston",
                  "ATM",
                  "0.8064516129032258",
                  "Doctor",
                  "0.45172413793103444",
                  "0.0",
                  "0.9180546275595326",
                  "2024-11-04 8:09:35"
                ],
                [
                  "2",
                  "0.0656799645621075",
                  "2023-07-10 18:16:08",
                  "Debit",
                  "Mesa",
                  "Online",
                  "0.016129032258064557",
                  "Student",
                  "0.1586206896551724",
                  "0.0",
                  "0.06863734931174438",
                  "2024-11-04 8:07:04"
                ],
                [
                  "3",
                  "0.0960158428225239",
                  "2023-05-05 16:32:11",
                  "Debit",
                  "Raleigh",
                  "Online",
                  "0.12903225806451613",
                  "Student",
                  "0.05172413793103449",
                  "0.0",
                  "0.569197956003802",
                  "2024-11-04 8:09:06"
                ],
                [
                  "4",
                  "0.006873908851655939",
                  "2023-10-16 17:51:24",
                  "Credit",
                  "Atlanta",
                  "Online",
                  null,
                  "Student",
                  "0.6482758620689656",
                  "0.0",
                  "0.4925911187531677",
                  "2024-11-04 8:06:39"
                ]
              ],
              "shape": {
                "columns": 11,
                "rows": 5
              }
            },
            "text/html": [
              "<div>\n",
              "<style scoped>\n",
              "    .dataframe tbody tr th:only-of-type {\n",
              "        vertical-align: middle;\n",
              "    }\n",
              "\n",
              "    .dataframe tbody tr th {\n",
              "        vertical-align: top;\n",
              "    }\n",
              "\n",
              "    .dataframe thead th {\n",
              "        text-align: right;\n",
              "    }\n",
              "</style>\n",
              "<table border=\"1\" class=\"dataframe\">\n",
              "  <thead>\n",
              "    <tr style=\"text-align: right;\">\n",
              "      <th></th>\n",
              "      <th>TransactionAmount</th>\n",
              "      <th>PreviousTransactionDate</th>\n",
              "      <th>TransactionType</th>\n",
              "      <th>Location</th>\n",
              "      <th>Channel</th>\n",
              "      <th>CustomerAge</th>\n",
              "      <th>CustomerOccupation</th>\n",
              "      <th>TransactionDuration</th>\n",
              "      <th>LoginAttempts</th>\n",
              "      <th>AccountBalance</th>\n",
              "      <th>TransactionDate</th>\n",
              "    </tr>\n",
              "  </thead>\n",
              "  <tbody>\n",
              "    <tr>\n",
              "      <th>0</th>\n",
              "      <td>0.007207</td>\n",
              "      <td>2023-04-11 16:29:14</td>\n",
              "      <td>Debit</td>\n",
              "      <td>San Diego</td>\n",
              "      <td>ATM</td>\n",
              "      <td>0.838710</td>\n",
              "      <td>Doctor</td>\n",
              "      <td>0.244828</td>\n",
              "      <td>0.0</td>\n",
              "      <td>0.336832</td>\n",
              "      <td>2024-11-04 8:08:08</td>\n",
              "    </tr>\n",
              "    <tr>\n",
              "      <th>1</th>\n",
              "      <td>0.195940</td>\n",
              "      <td>2023-06-27 16:44:19</td>\n",
              "      <td>Debit</td>\n",
              "      <td>Houston</td>\n",
              "      <td>ATM</td>\n",
              "      <td>0.806452</td>\n",
              "      <td>Doctor</td>\n",
              "      <td>0.451724</td>\n",
              "      <td>0.0</td>\n",
              "      <td>0.918055</td>\n",
              "      <td>2024-11-04 8:09:35</td>\n",
              "    </tr>\n",
              "    <tr>\n",
              "      <th>2</th>\n",
              "      <td>0.065680</td>\n",
              "      <td>2023-07-10 18:16:08</td>\n",
              "      <td>Debit</td>\n",
              "      <td>Mesa</td>\n",
              "      <td>Online</td>\n",
              "      <td>0.016129</td>\n",
              "      <td>Student</td>\n",
              "      <td>0.158621</td>\n",
              "      <td>0.0</td>\n",
              "      <td>0.068637</td>\n",
              "      <td>2024-11-04 8:07:04</td>\n",
              "    </tr>\n",
              "    <tr>\n",
              "      <th>3</th>\n",
              "      <td>0.096016</td>\n",
              "      <td>2023-05-05 16:32:11</td>\n",
              "      <td>Debit</td>\n",
              "      <td>Raleigh</td>\n",
              "      <td>Online</td>\n",
              "      <td>0.129032</td>\n",
              "      <td>Student</td>\n",
              "      <td>0.051724</td>\n",
              "      <td>0.0</td>\n",
              "      <td>0.569198</td>\n",
              "      <td>2024-11-04 8:09:06</td>\n",
              "    </tr>\n",
              "    <tr>\n",
              "      <th>4</th>\n",
              "      <td>0.006874</td>\n",
              "      <td>2023-10-16 17:51:24</td>\n",
              "      <td>Credit</td>\n",
              "      <td>Atlanta</td>\n",
              "      <td>Online</td>\n",
              "      <td>NaN</td>\n",
              "      <td>Student</td>\n",
              "      <td>0.648276</td>\n",
              "      <td>0.0</td>\n",
              "      <td>0.492591</td>\n",
              "      <td>2024-11-04 8:06:39</td>\n",
              "    </tr>\n",
              "  </tbody>\n",
              "</table>\n",
              "</div>"
            ],
            "text/plain": [
              "   TransactionAmount PreviousTransactionDate TransactionType   Location  \\\n",
              "0           0.007207     2023-04-11 16:29:14           Debit  San Diego   \n",
              "1           0.195940     2023-06-27 16:44:19           Debit    Houston   \n",
              "2           0.065680     2023-07-10 18:16:08           Debit       Mesa   \n",
              "3           0.096016     2023-05-05 16:32:11           Debit    Raleigh   \n",
              "4           0.006874     2023-10-16 17:51:24          Credit    Atlanta   \n",
              "\n",
              "  Channel  CustomerAge CustomerOccupation  TransactionDuration  LoginAttempts  \\\n",
              "0     ATM     0.838710             Doctor             0.244828            0.0   \n",
              "1     ATM     0.806452             Doctor             0.451724            0.0   \n",
              "2  Online     0.016129            Student             0.158621            0.0   \n",
              "3  Online     0.129032            Student             0.051724            0.0   \n",
              "4  Online          NaN            Student             0.648276            0.0   \n",
              "\n",
              "   AccountBalance     TransactionDate  \n",
              "0        0.336832  2024-11-04 8:08:08  \n",
              "1        0.918055  2024-11-04 8:09:35  \n",
              "2        0.068637  2024-11-04 8:07:04  \n",
              "3        0.569198  2024-11-04 8:09:06  \n",
              "4        0.492591  2024-11-04 8:06:39  "
            ]
          },
          "execution_count": 12,
          "metadata": {},
          "output_type": "execute_result"
        }
      ],
      "source": [
        "# Melakukan drop pada kolom yang memiliki keterangan id dan IP Address\n",
        "\n",
        "df = df.drop(['TransactionID', 'AccountID', 'DeviceID', 'MerchantID', 'IP Address'], axis=1)\n",
        "df.head()"
      ]
    },
    {
      "cell_type": "code",
      "execution_count": 13,
      "metadata": {
        "id": "6eycdNMQqx4c"
      },
      "outputs": [
        {
          "data": {
            "application/vnd.microsoft.datawrangler.viewer.v0+json": {
              "columns": [
                {
                  "name": "index",
                  "rawType": "int64",
                  "type": "integer"
                },
                {
                  "name": "TransactionAmount",
                  "rawType": "float64",
                  "type": "float"
                },
                {
                  "name": "PreviousTransactionDate",
                  "rawType": "int64",
                  "type": "integer"
                },
                {
                  "name": "TransactionType",
                  "rawType": "int64",
                  "type": "integer"
                },
                {
                  "name": "Location",
                  "rawType": "int64",
                  "type": "integer"
                },
                {
                  "name": "Channel",
                  "rawType": "int64",
                  "type": "integer"
                },
                {
                  "name": "CustomerAge",
                  "rawType": "float64",
                  "type": "float"
                },
                {
                  "name": "CustomerOccupation",
                  "rawType": "int64",
                  "type": "integer"
                },
                {
                  "name": "TransactionDuration",
                  "rawType": "float64",
                  "type": "float"
                },
                {
                  "name": "LoginAttempts",
                  "rawType": "float64",
                  "type": "float"
                },
                {
                  "name": "AccountBalance",
                  "rawType": "float64",
                  "type": "float"
                },
                {
                  "name": "TransactionDate",
                  "rawType": "int64",
                  "type": "integer"
                }
              ],
              "ref": "4f5ebc99-e114-433e-84ad-afddaa4e3f23",
              "rows": [
                [
                  "0",
                  "0.007207441957422414",
                  "680",
                  "1",
                  "36",
                  "0",
                  "0.8387096774193548",
                  "0",
                  "0.24482758620689654",
                  "0.0",
                  "0.33683185966818",
                  "105"
                ],
                [
                  "1",
                  "0.1959402767282487",
                  "1178",
                  "1",
                  "15",
                  "0",
                  "0.8064516129032258",
                  "0",
                  "0.45172413793103444",
                  "0.0",
                  "0.9180546275595326",
                  "192"
                ],
                [
                  "2",
                  "0.0656799645621075",
                  "1262",
                  "1",
                  "23",
                  "2",
                  "0.016129032258064557",
                  "3",
                  "0.1586206896551724",
                  "0.0",
                  "0.06863734931174438",
                  "41"
                ],
                [
                  "3",
                  "0.0960158428225239",
                  "818",
                  "1",
                  "33",
                  "2",
                  "0.12903225806451613",
                  "3",
                  "0.05172413793103449",
                  "0.0",
                  "0.569197956003802",
                  "163"
                ],
                [
                  "4",
                  "0.006873908851655939",
                  "1939",
                  "0",
                  "1",
                  "2",
                  null,
                  "3",
                  "0.6482758620689656",
                  "0.0",
                  "0.4925911187531677",
                  "16"
                ]
              ],
              "shape": {
                "columns": 11,
                "rows": 5
              }
            },
            "text/html": [
              "<div>\n",
              "<style scoped>\n",
              "    .dataframe tbody tr th:only-of-type {\n",
              "        vertical-align: middle;\n",
              "    }\n",
              "\n",
              "    .dataframe tbody tr th {\n",
              "        vertical-align: top;\n",
              "    }\n",
              "\n",
              "    .dataframe thead th {\n",
              "        text-align: right;\n",
              "    }\n",
              "</style>\n",
              "<table border=\"1\" class=\"dataframe\">\n",
              "  <thead>\n",
              "    <tr style=\"text-align: right;\">\n",
              "      <th></th>\n",
              "      <th>TransactionAmount</th>\n",
              "      <th>PreviousTransactionDate</th>\n",
              "      <th>TransactionType</th>\n",
              "      <th>Location</th>\n",
              "      <th>Channel</th>\n",
              "      <th>CustomerAge</th>\n",
              "      <th>CustomerOccupation</th>\n",
              "      <th>TransactionDuration</th>\n",
              "      <th>LoginAttempts</th>\n",
              "      <th>AccountBalance</th>\n",
              "      <th>TransactionDate</th>\n",
              "    </tr>\n",
              "  </thead>\n",
              "  <tbody>\n",
              "    <tr>\n",
              "      <th>0</th>\n",
              "      <td>0.007207</td>\n",
              "      <td>680</td>\n",
              "      <td>1</td>\n",
              "      <td>36</td>\n",
              "      <td>0</td>\n",
              "      <td>0.838710</td>\n",
              "      <td>0</td>\n",
              "      <td>0.244828</td>\n",
              "      <td>0.0</td>\n",
              "      <td>0.336832</td>\n",
              "      <td>105</td>\n",
              "    </tr>\n",
              "    <tr>\n",
              "      <th>1</th>\n",
              "      <td>0.195940</td>\n",
              "      <td>1178</td>\n",
              "      <td>1</td>\n",
              "      <td>15</td>\n",
              "      <td>0</td>\n",
              "      <td>0.806452</td>\n",
              "      <td>0</td>\n",
              "      <td>0.451724</td>\n",
              "      <td>0.0</td>\n",
              "      <td>0.918055</td>\n",
              "      <td>192</td>\n",
              "    </tr>\n",
              "    <tr>\n",
              "      <th>2</th>\n",
              "      <td>0.065680</td>\n",
              "      <td>1262</td>\n",
              "      <td>1</td>\n",
              "      <td>23</td>\n",
              "      <td>2</td>\n",
              "      <td>0.016129</td>\n",
              "      <td>3</td>\n",
              "      <td>0.158621</td>\n",
              "      <td>0.0</td>\n",
              "      <td>0.068637</td>\n",
              "      <td>41</td>\n",
              "    </tr>\n",
              "    <tr>\n",
              "      <th>3</th>\n",
              "      <td>0.096016</td>\n",
              "      <td>818</td>\n",
              "      <td>1</td>\n",
              "      <td>33</td>\n",
              "      <td>2</td>\n",
              "      <td>0.129032</td>\n",
              "      <td>3</td>\n",
              "      <td>0.051724</td>\n",
              "      <td>0.0</td>\n",
              "      <td>0.569198</td>\n",
              "      <td>163</td>\n",
              "    </tr>\n",
              "    <tr>\n",
              "      <th>4</th>\n",
              "      <td>0.006874</td>\n",
              "      <td>1939</td>\n",
              "      <td>0</td>\n",
              "      <td>1</td>\n",
              "      <td>2</td>\n",
              "      <td>NaN</td>\n",
              "      <td>3</td>\n",
              "      <td>0.648276</td>\n",
              "      <td>0.0</td>\n",
              "      <td>0.492591</td>\n",
              "      <td>16</td>\n",
              "    </tr>\n",
              "  </tbody>\n",
              "</table>\n",
              "</div>"
            ],
            "text/plain": [
              "   TransactionAmount  PreviousTransactionDate  TransactionType  Location  \\\n",
              "0           0.007207                      680                1        36   \n",
              "1           0.195940                     1178                1        15   \n",
              "2           0.065680                     1262                1        23   \n",
              "3           0.096016                      818                1        33   \n",
              "4           0.006874                     1939                0         1   \n",
              "\n",
              "   Channel  CustomerAge  CustomerOccupation  TransactionDuration  \\\n",
              "0        0     0.838710                   0             0.244828   \n",
              "1        0     0.806452                   0             0.451724   \n",
              "2        2     0.016129                   3             0.158621   \n",
              "3        2     0.129032                   3             0.051724   \n",
              "4        2          NaN                   3             0.648276   \n",
              "\n",
              "   LoginAttempts  AccountBalance  TransactionDate  \n",
              "0            0.0        0.336832              105  \n",
              "1            0.0        0.918055              192  \n",
              "2            0.0        0.068637               41  \n",
              "3            0.0        0.569198              163  \n",
              "4            0.0        0.492591               16  "
            ]
          },
          "execution_count": 13,
          "metadata": {},
          "output_type": "execute_result"
        }
      ],
      "source": [
        "# Melakukan feature encoding menggunakan LabelEncoder() untuk fitur kategorikal.\n",
        "# Pastikan kamu menggunakan function head setelah melalukan encoding.\n",
        "\n",
        "categorical_cols = df.select_dtypes(include=['object']).columns.tolist()\n",
        "encoders = {}\n",
        "for col in categorical_cols:\n",
        "    le = LabelEncoder()\n",
        "    df[col] = le.fit_transform(df[col])\n",
        "    encoders[col] = le\n",
        "df.head()"
      ]
    },
    {
      "cell_type": "code",
      "execution_count": 14,
      "metadata": {
        "id": "u1EmlGmZCCAP"
      },
      "outputs": [
        {
          "data": {
            "text/plain": [
              "['TransactionAmount',\n",
              " 'PreviousTransactionDate',\n",
              " 'TransactionType',\n",
              " 'Location',\n",
              " 'Channel',\n",
              " 'CustomerAge',\n",
              " 'CustomerOccupation',\n",
              " 'TransactionDuration',\n",
              " 'LoginAttempts',\n",
              " 'AccountBalance',\n",
              " 'TransactionDate']"
            ]
          },
          "execution_count": 14,
          "metadata": {},
          "output_type": "execute_result"
        }
      ],
      "source": [
        "df.columns.tolist()"
      ]
    },
    {
      "cell_type": "markdown",
      "metadata": {
        "id": "qnbH2l_wv9l8"
      },
      "source": [
        "(Opsional) Pembersihan dan Pra Pemrosesan Data [Skilled]\n",
        "\n",
        "**Biarkan kosong jika tidak menerapkan kriteria skilled**"
      ]
    },
    {
      "cell_type": "code",
      "execution_count": 15,
      "metadata": {
        "id": "-UoGhAUrsxIV"
      },
      "outputs": [
        {
          "data": {
            "application/vnd.microsoft.datawrangler.viewer.v0+json": {
              "columns": [
                {
                  "name": "index",
                  "rawType": "object",
                  "type": "string"
                },
                {
                  "name": "0",
                  "rawType": "int64",
                  "type": "integer"
                }
              ],
              "ref": "8b8a7daf-6548-42e3-998f-dd42b8c34240",
              "rows": [
                [
                  "TransactionAmount",
                  "0"
                ],
                [
                  "PreviousTransactionDate",
                  "0"
                ],
                [
                  "TransactionType",
                  "0"
                ],
                [
                  "Location",
                  "0"
                ],
                [
                  "Channel",
                  "0"
                ],
                [
                  "CustomerAge",
                  "0"
                ],
                [
                  "CustomerOccupation",
                  "0"
                ],
                [
                  "TransactionDuration",
                  "0"
                ],
                [
                  "LoginAttempts",
                  "0"
                ],
                [
                  "AccountBalance",
                  "0"
                ],
                [
                  "TransactionDate",
                  "0"
                ]
              ],
              "shape": {
                "columns": 1,
                "rows": 11
              }
            },
            "text/plain": [
              "TransactionAmount          0\n",
              "PreviousTransactionDate    0\n",
              "TransactionType            0\n",
              "Location                   0\n",
              "Channel                    0\n",
              "CustomerAge                0\n",
              "CustomerOccupation         0\n",
              "TransactionDuration        0\n",
              "LoginAttempts              0\n",
              "AccountBalance             0\n",
              "TransactionDate            0\n",
              "dtype: int64"
            ]
          },
          "execution_count": 15,
          "metadata": {},
          "output_type": "execute_result"
        }
      ],
      "source": [
        "# Menangani data yang hilang dengan dropna dan tunjukkan hasil isnull().sum().\n",
        "df = df.dropna()\n",
        "df.isnull().sum()"
      ]
    },
    {
      "cell_type": "code",
      "execution_count": 16,
      "metadata": {
        "id": "WGt2XApTttSL"
      },
      "outputs": [
        {
          "data": {
            "text/plain": [
              "np.int64(0)"
            ]
          },
          "execution_count": 16,
          "metadata": {},
          "output_type": "execute_result"
        }
      ],
      "source": [
        "# Menghapus data duplikat menggunakan drop_duplicates().\n",
        "df = df.drop_duplicates()\n",
        "df.duplicated().sum()"
      ]
    },
    {
      "cell_type": "markdown",
      "metadata": {
        "id": "H5RrswThwQrC"
      },
      "source": [
        "(Opsional) Pembersihan dan Pra Pemrosesan Data [Advanced]\n",
        "\n",
        "**Biarkan kosong jika tidak menerapkan kriteria advanced**"
      ]
    },
    {
      "cell_type": "code",
      "execution_count": 17,
      "metadata": {
        "id": "mvhfyYpat9Xs"
      },
      "outputs": [
        {
          "data": {
            "text/plain": [
              "(2183, 11)"
            ]
          },
          "execution_count": 17,
          "metadata": {},
          "output_type": "execute_result"
        }
      ],
      "source": [
        "# Melakukan Handling Outlier Data berdasarkan jumlah outlier, apakah menggunakan metode drop atau mengisi nilai tersebut.\n",
        "\n",
        "Q1 = df[numerical_cols].quantile(0.25)\n",
        "Q3 = df[numerical_cols].quantile(0.75)\n",
        "IQR = Q3 - Q1\n",
        "mask = ~((df[numerical_cols] < (Q1 - 1.5 * IQR)) | (df[numerical_cols] > (Q3 + 1.5 * IQR))).any(axis=1)\n",
        "df = df[mask]\n",
        "df.shape"
      ]
    },
    {
      "cell_type": "code",
      "execution_count": 18,
      "metadata": {
        "id": "QjcR-3G0u-GL"
      },
      "outputs": [
        {
          "data": {
            "application/vnd.microsoft.datawrangler.viewer.v0+json": {
              "columns": [
                {
                  "name": "index",
                  "rawType": "int64",
                  "type": "integer"
                },
                {
                  "name": "TransactionAmount",
                  "rawType": "float64",
                  "type": "float"
                },
                {
                  "name": "AmountBin",
                  "rawType": "int64",
                  "type": "integer"
                },
                {
                  "name": "CustomerAge",
                  "rawType": "float64",
                  "type": "float"
                },
                {
                  "name": "AgeBin",
                  "rawType": "int64",
                  "type": "integer"
                }
              ],
              "ref": "aaa2eeaf-27e4-40ad-a724-8d441d3f1757",
              "rows": [
                [
                  "0",
                  "0.007207441957422414",
                  "1",
                  "0.8387096774193548",
                  "1"
                ],
                [
                  "1",
                  "0.1959402767282487",
                  "2",
                  "0.8064516129032258",
                  "1"
                ],
                [
                  "2",
                  "0.0656799645621075",
                  "1",
                  "0.016129032258064557",
                  "2"
                ],
                [
                  "3",
                  "0.0960158428225239",
                  "1",
                  "0.12903225806451613",
                  "2"
                ],
                [
                  "5",
                  "0.04788805795137713",
                  "1",
                  "0.0",
                  "2"
                ]
              ],
              "shape": {
                "columns": 4,
                "rows": 5
              }
            },
            "text/html": [
              "<div>\n",
              "<style scoped>\n",
              "    .dataframe tbody tr th:only-of-type {\n",
              "        vertical-align: middle;\n",
              "    }\n",
              "\n",
              "    .dataframe tbody tr th {\n",
              "        vertical-align: top;\n",
              "    }\n",
              "\n",
              "    .dataframe thead th {\n",
              "        text-align: right;\n",
              "    }\n",
              "</style>\n",
              "<table border=\"1\" class=\"dataframe\">\n",
              "  <thead>\n",
              "    <tr style=\"text-align: right;\">\n",
              "      <th></th>\n",
              "      <th>TransactionAmount</th>\n",
              "      <th>AmountBin</th>\n",
              "      <th>CustomerAge</th>\n",
              "      <th>AgeBin</th>\n",
              "    </tr>\n",
              "  </thead>\n",
              "  <tbody>\n",
              "    <tr>\n",
              "      <th>0</th>\n",
              "      <td>0.007207</td>\n",
              "      <td>1</td>\n",
              "      <td>0.838710</td>\n",
              "      <td>1</td>\n",
              "    </tr>\n",
              "    <tr>\n",
              "      <th>1</th>\n",
              "      <td>0.195940</td>\n",
              "      <td>2</td>\n",
              "      <td>0.806452</td>\n",
              "      <td>1</td>\n",
              "    </tr>\n",
              "    <tr>\n",
              "      <th>2</th>\n",
              "      <td>0.065680</td>\n",
              "      <td>1</td>\n",
              "      <td>0.016129</td>\n",
              "      <td>2</td>\n",
              "    </tr>\n",
              "    <tr>\n",
              "      <th>3</th>\n",
              "      <td>0.096016</td>\n",
              "      <td>1</td>\n",
              "      <td>0.129032</td>\n",
              "      <td>2</td>\n",
              "    </tr>\n",
              "    <tr>\n",
              "      <th>5</th>\n",
              "      <td>0.047888</td>\n",
              "      <td>1</td>\n",
              "      <td>0.000000</td>\n",
              "      <td>2</td>\n",
              "    </tr>\n",
              "  </tbody>\n",
              "</table>\n",
              "</div>"
            ],
            "text/plain": [
              "   TransactionAmount  AmountBin  CustomerAge  AgeBin\n",
              "0           0.007207          1     0.838710       1\n",
              "1           0.195940          2     0.806452       1\n",
              "2           0.065680          1     0.016129       2\n",
              "3           0.096016          1     0.129032       2\n",
              "5           0.047888          1     0.000000       2"
            ]
          },
          "execution_count": 18,
          "metadata": {},
          "output_type": "execute_result"
        }
      ],
      "source": [
        "# Melakukan binning data berdasarkan kondisi rentang nilai pada fitur numerik,\n",
        "# lakukan pada satu sampai dua fitur numerik.\n",
        "# Silahkan lakukan encode hasil binning tersebut menggunakan LabelEncoder.\n",
        "# Pastikan kamu mengerjakan tahapan ini pada satu cell.\n",
        "\n",
        "df['AmountBin'] = pd.cut(df['TransactionAmount'], bins=3, labels=['Low','Medium','High'])\n",
        "df['AgeBin'] = pd.cut(df['CustomerAge'], bins=3, labels=['Young','Adult','Senior'])\n",
        "le = LabelEncoder()\n",
        "df['AmountBin'] = le.fit_transform(df['AmountBin'])\n",
        "df['AgeBin'] = le.fit_transform(df['AgeBin'])\n",
        "df[['TransactionAmount','AmountBin','CustomerAge','AgeBin']].head()"
      ]
    },
    {
      "cell_type": "markdown",
      "metadata": {
        "id": "Fkd_QHXWMBDr"
      },
      "source": [
        "# **4. Membangun Model Clustering**\n",
        "Pada tahap ini, Anda membangun model clustering dengan memilih algoritma yang sesuai untuk mengelompokkan data berdasarkan kesamaan.\n",
        "1. Pastikan Anda menggunakan dataframe yang sudah melalui processing sesuai dengan levelnya (Basic, Skilled, Advanced)\n",
        "2. Melakukan visualisasi Elbow Method untuk menentukan jumlah cluster terbaik menggunakan `KElbowVisualizer()`.\n",
        "3. Menggunakan algoritma K-Means Clustering dengan `sklearn.cluster.KMeans()`.\n",
        "4. Jalankan cell code `joblib.dump(model_kmeans, \"model_clustering.h5\")` untuk menyimpan model yang sudah dibuat."
      ]
    },
    {
      "cell_type": "code",
      "execution_count": 19,
      "metadata": {
        "id": "hYHmRnb42A1P"
      },
      "outputs": [
        {
          "data": {
            "application/vnd.microsoft.datawrangler.viewer.v0+json": {
              "columns": [
                {
                  "name": "index",
                  "rawType": "object",
                  "type": "string"
                },
                {
                  "name": "TransactionAmount",
                  "rawType": "float64",
                  "type": "float"
                },
                {
                  "name": "PreviousTransactionDate",
                  "rawType": "float64",
                  "type": "float"
                },
                {
                  "name": "TransactionType",
                  "rawType": "float64",
                  "type": "float"
                },
                {
                  "name": "Location",
                  "rawType": "float64",
                  "type": "float"
                },
                {
                  "name": "Channel",
                  "rawType": "float64",
                  "type": "float"
                },
                {
                  "name": "CustomerAge",
                  "rawType": "float64",
                  "type": "float"
                },
                {
                  "name": "CustomerOccupation",
                  "rawType": "float64",
                  "type": "float"
                },
                {
                  "name": "TransactionDuration",
                  "rawType": "float64",
                  "type": "float"
                },
                {
                  "name": "LoginAttempts",
                  "rawType": "float64",
                  "type": "float"
                },
                {
                  "name": "AccountBalance",
                  "rawType": "float64",
                  "type": "float"
                },
                {
                  "name": "TransactionDate",
                  "rawType": "float64",
                  "type": "float"
                },
                {
                  "name": "AmountBin",
                  "rawType": "float64",
                  "type": "float"
                },
                {
                  "name": "AgeBin",
                  "rawType": "float64",
                  "type": "float"
                }
              ],
              "ref": "238e9510-1f00-4157-8510-fe0ce40c40e3",
              "rows": [
                [
                  "count",
                  "2183.0",
                  "2183.0",
                  "2183.0",
                  "2183.0",
                  "2183.0",
                  "2183.0",
                  "2183.0",
                  "2183.0",
                  "2183.0",
                  "2183.0",
                  "2183.0",
                  "2183.0",
                  "2183.0"
                ],
                [
                  "mean",
                  "0.1332202489822056",
                  "1253.6701786532294",
                  "0.7888227210261108",
                  "21.47274393037105",
                  "1.0123683005038937",
                  "0.4296248134411065",
                  "1.5318369216674301",
                  "0.3751528267016286",
                  "0.0",
                  "0.3360706677636328",
                  "180.9752633989922",
                  "1.1543747136967475",
                  "1.0778744846541457"
                ],
                [
                  "std",
                  "0.11314491402074678",
                  "724.6903136200553",
                  "0.4406307839973941",
                  "12.448282163021544",
                  "0.8276461758697947",
                  "0.2861929747564224",
                  "1.1523572727749738",
                  "0.24171035001583122",
                  "0.0",
                  "0.2610314452422094",
                  "103.55847514627298",
                  "0.5667925262971165",
                  "0.8682085756850847"
                ],
                [
                  "min",
                  "0.0",
                  "0.0",
                  "0.0",
                  "0.0",
                  "0.0",
                  "0.0",
                  "0.0",
                  "0.0",
                  "0.0",
                  "0.0",
                  "0.0",
                  "0.0",
                  "0.0"
                ],
                [
                  "25%",
                  "0.0406337129009563",
                  "629.5",
                  "1.0",
                  "11.0",
                  "0.0",
                  "0.14516129032258068",
                  "0.0",
                  "0.18103448275862066",
                  "0.0",
                  "0.09429821318380238",
                  "93.0",
                  "1.0",
                  "0.0"
                ],
                [
                  "50%",
                  "0.10377569898637203",
                  "1247.0",
                  "1.0",
                  "22.0",
                  "1.0",
                  "0.435483870967742",
                  "2.0",
                  "0.3448275862068965",
                  "0.0",
                  "0.31036772841361754",
                  "181.0",
                  "1.0",
                  "1.0"
                ],
                [
                  "75%",
                  "0.19573442426453347",
                  "1879.5",
                  "1.0",
                  "32.0",
                  "2.0",
                  "0.6612903225806451",
                  "3.0",
                  "0.5224137931034483",
                  "0.0",
                  "0.5063310241356642",
                  "271.0",
                  "1.0",
                  "2.0"
                ],
                [
                  "max",
                  "0.47055788623394224",
                  "2485.0",
                  "2.0",
                  "43.0",
                  "3.0",
                  "1.0",
                  "4.0",
                  "1.0",
                  "0.0",
                  "1.0",
                  "360.0",
                  "2.0",
                  "2.0"
                ]
              ],
              "shape": {
                "columns": 13,
                "rows": 8
              }
            },
            "text/html": [
              "<div>\n",
              "<style scoped>\n",
              "    .dataframe tbody tr th:only-of-type {\n",
              "        vertical-align: middle;\n",
              "    }\n",
              "\n",
              "    .dataframe tbody tr th {\n",
              "        vertical-align: top;\n",
              "    }\n",
              "\n",
              "    .dataframe thead th {\n",
              "        text-align: right;\n",
              "    }\n",
              "</style>\n",
              "<table border=\"1\" class=\"dataframe\">\n",
              "  <thead>\n",
              "    <tr style=\"text-align: right;\">\n",
              "      <th></th>\n",
              "      <th>TransactionAmount</th>\n",
              "      <th>PreviousTransactionDate</th>\n",
              "      <th>TransactionType</th>\n",
              "      <th>Location</th>\n",
              "      <th>Channel</th>\n",
              "      <th>CustomerAge</th>\n",
              "      <th>CustomerOccupation</th>\n",
              "      <th>TransactionDuration</th>\n",
              "      <th>LoginAttempts</th>\n",
              "      <th>AccountBalance</th>\n",
              "      <th>TransactionDate</th>\n",
              "      <th>AmountBin</th>\n",
              "      <th>AgeBin</th>\n",
              "    </tr>\n",
              "  </thead>\n",
              "  <tbody>\n",
              "    <tr>\n",
              "      <th>count</th>\n",
              "      <td>2183.000000</td>\n",
              "      <td>2183.000000</td>\n",
              "      <td>2183.000000</td>\n",
              "      <td>2183.000000</td>\n",
              "      <td>2183.000000</td>\n",
              "      <td>2183.000000</td>\n",
              "      <td>2183.000000</td>\n",
              "      <td>2183.000000</td>\n",
              "      <td>2183.0</td>\n",
              "      <td>2183.000000</td>\n",
              "      <td>2183.000000</td>\n",
              "      <td>2183.000000</td>\n",
              "      <td>2183.000000</td>\n",
              "    </tr>\n",
              "    <tr>\n",
              "      <th>mean</th>\n",
              "      <td>0.133220</td>\n",
              "      <td>1253.670179</td>\n",
              "      <td>0.788823</td>\n",
              "      <td>21.472744</td>\n",
              "      <td>1.012368</td>\n",
              "      <td>0.429625</td>\n",
              "      <td>1.531837</td>\n",
              "      <td>0.375153</td>\n",
              "      <td>0.0</td>\n",
              "      <td>0.336071</td>\n",
              "      <td>180.975263</td>\n",
              "      <td>1.154375</td>\n",
              "      <td>1.077874</td>\n",
              "    </tr>\n",
              "    <tr>\n",
              "      <th>std</th>\n",
              "      <td>0.113145</td>\n",
              "      <td>724.690314</td>\n",
              "      <td>0.440631</td>\n",
              "      <td>12.448282</td>\n",
              "      <td>0.827646</td>\n",
              "      <td>0.286193</td>\n",
              "      <td>1.152357</td>\n",
              "      <td>0.241710</td>\n",
              "      <td>0.0</td>\n",
              "      <td>0.261031</td>\n",
              "      <td>103.558475</td>\n",
              "      <td>0.566793</td>\n",
              "      <td>0.868209</td>\n",
              "    </tr>\n",
              "    <tr>\n",
              "      <th>min</th>\n",
              "      <td>0.000000</td>\n",
              "      <td>0.000000</td>\n",
              "      <td>0.000000</td>\n",
              "      <td>0.000000</td>\n",
              "      <td>0.000000</td>\n",
              "      <td>0.000000</td>\n",
              "      <td>0.000000</td>\n",
              "      <td>0.000000</td>\n",
              "      <td>0.0</td>\n",
              "      <td>0.000000</td>\n",
              "      <td>0.000000</td>\n",
              "      <td>0.000000</td>\n",
              "      <td>0.000000</td>\n",
              "    </tr>\n",
              "    <tr>\n",
              "      <th>25%</th>\n",
              "      <td>0.040634</td>\n",
              "      <td>629.500000</td>\n",
              "      <td>1.000000</td>\n",
              "      <td>11.000000</td>\n",
              "      <td>0.000000</td>\n",
              "      <td>0.145161</td>\n",
              "      <td>0.000000</td>\n",
              "      <td>0.181034</td>\n",
              "      <td>0.0</td>\n",
              "      <td>0.094298</td>\n",
              "      <td>93.000000</td>\n",
              "      <td>1.000000</td>\n",
              "      <td>0.000000</td>\n",
              "    </tr>\n",
              "    <tr>\n",
              "      <th>50%</th>\n",
              "      <td>0.103776</td>\n",
              "      <td>1247.000000</td>\n",
              "      <td>1.000000</td>\n",
              "      <td>22.000000</td>\n",
              "      <td>1.000000</td>\n",
              "      <td>0.435484</td>\n",
              "      <td>2.000000</td>\n",
              "      <td>0.344828</td>\n",
              "      <td>0.0</td>\n",
              "      <td>0.310368</td>\n",
              "      <td>181.000000</td>\n",
              "      <td>1.000000</td>\n",
              "      <td>1.000000</td>\n",
              "    </tr>\n",
              "    <tr>\n",
              "      <th>75%</th>\n",
              "      <td>0.195734</td>\n",
              "      <td>1879.500000</td>\n",
              "      <td>1.000000</td>\n",
              "      <td>32.000000</td>\n",
              "      <td>2.000000</td>\n",
              "      <td>0.661290</td>\n",
              "      <td>3.000000</td>\n",
              "      <td>0.522414</td>\n",
              "      <td>0.0</td>\n",
              "      <td>0.506331</td>\n",
              "      <td>271.000000</td>\n",
              "      <td>1.000000</td>\n",
              "      <td>2.000000</td>\n",
              "    </tr>\n",
              "    <tr>\n",
              "      <th>max</th>\n",
              "      <td>0.470558</td>\n",
              "      <td>2485.000000</td>\n",
              "      <td>2.000000</td>\n",
              "      <td>43.000000</td>\n",
              "      <td>3.000000</td>\n",
              "      <td>1.000000</td>\n",
              "      <td>4.000000</td>\n",
              "      <td>1.000000</td>\n",
              "      <td>0.0</td>\n",
              "      <td>1.000000</td>\n",
              "      <td>360.000000</td>\n",
              "      <td>2.000000</td>\n",
              "      <td>2.000000</td>\n",
              "    </tr>\n",
              "  </tbody>\n",
              "</table>\n",
              "</div>"
            ],
            "text/plain": [
              "       TransactionAmount  PreviousTransactionDate  TransactionType  \\\n",
              "count        2183.000000              2183.000000      2183.000000   \n",
              "mean            0.133220              1253.670179         0.788823   \n",
              "std             0.113145               724.690314         0.440631   \n",
              "min             0.000000                 0.000000         0.000000   \n",
              "25%             0.040634               629.500000         1.000000   \n",
              "50%             0.103776              1247.000000         1.000000   \n",
              "75%             0.195734              1879.500000         1.000000   \n",
              "max             0.470558              2485.000000         2.000000   \n",
              "\n",
              "          Location      Channel  CustomerAge  CustomerOccupation  \\\n",
              "count  2183.000000  2183.000000  2183.000000         2183.000000   \n",
              "mean     21.472744     1.012368     0.429625            1.531837   \n",
              "std      12.448282     0.827646     0.286193            1.152357   \n",
              "min       0.000000     0.000000     0.000000            0.000000   \n",
              "25%      11.000000     0.000000     0.145161            0.000000   \n",
              "50%      22.000000     1.000000     0.435484            2.000000   \n",
              "75%      32.000000     2.000000     0.661290            3.000000   \n",
              "max      43.000000     3.000000     1.000000            4.000000   \n",
              "\n",
              "       TransactionDuration  LoginAttempts  AccountBalance  TransactionDate  \\\n",
              "count          2183.000000         2183.0     2183.000000      2183.000000   \n",
              "mean              0.375153            0.0        0.336071       180.975263   \n",
              "std               0.241710            0.0        0.261031       103.558475   \n",
              "min               0.000000            0.0        0.000000         0.000000   \n",
              "25%               0.181034            0.0        0.094298        93.000000   \n",
              "50%               0.344828            0.0        0.310368       181.000000   \n",
              "75%               0.522414            0.0        0.506331       271.000000   \n",
              "max               1.000000            0.0        1.000000       360.000000   \n",
              "\n",
              "         AmountBin       AgeBin  \n",
              "count  2183.000000  2183.000000  \n",
              "mean      1.154375     1.077874  \n",
              "std       0.566793     0.868209  \n",
              "min       0.000000     0.000000  \n",
              "25%       1.000000     0.000000  \n",
              "50%       1.000000     1.000000  \n",
              "75%       1.000000     2.000000  \n",
              "max       2.000000     2.000000  "
            ]
          },
          "execution_count": 19,
          "metadata": {},
          "output_type": "execute_result"
        }
      ],
      "source": [
        "# Gunakan describe untuk memastikan proses clustering menggunakan dataset hasil preprocessing\n",
        "# Lengkapi kode ini dengan mengubah nama DataFrame yang akan dilatih.\n",
        "# Kode harus digunakan dan dilarang menambahkan syntax lainnya pada cell ini.\n",
        "df.describe()"
      ]
    },
    {
      "cell_type": "code",
      "execution_count": 20,
      "metadata": {
        "id": "hgYvwWOzM93L"
      },
      "outputs": [
        {
          "data": {
            "image/png": "[encoded data removed]",
            "text/plain": [
              "<Figure size 800x550 with 2 Axes>"
            ]
          },
          "metadata": {},
          "output_type": "display_data"
        },
        {
          "data": {
            "text/plain": [
              "<Axes: title={'center': 'Distortion Score Elbow for KMeans Clustering'}, xlabel='k', ylabel='distortion score'>"
            ]
          },
          "execution_count": 20,
          "metadata": {},
          "output_type": "execute_result"
        }
      ],
      "source": [
        "# Melakukan visualisasi Elbow Method menggunakan KElbowVisualizer()\n",
        "\n",
        "X = df.copy()\n",
        "visualizer = KElbowVisualizer(KMeans(), k=(2,10))\n",
        "visualizer.fit(X)\n",
        "visualizer.show()"
      ]
    },
    {
      "cell_type": "code",
      "execution_count": 21,
      "metadata": {
        "id": "HvngRg-r4EcL"
      },
      "outputs": [
        {
          "data": {
            "application/vnd.microsoft.datawrangler.viewer.v0+json": {
              "columns": [
                {
                  "name": "index",
                  "rawType": "int64",
                  "type": "integer"
                },
                {
                  "name": "TransactionAmount",
                  "rawType": "float64",
                  "type": "float"
                },
                {
                  "name": "PreviousTransactionDate",
                  "rawType": "int64",
                  "type": "integer"
                },
                {
                  "name": "TransactionType",
                  "rawType": "int64",
                  "type": "integer"
                },
                {
                  "name": "Location",
                  "rawType": "int64",
                  "type": "integer"
                },
                {
                  "name": "Channel",
                  "rawType": "int64",
                  "type": "integer"
                },
                {
                  "name": "CustomerAge",
                  "rawType": "float64",
                  "type": "float"
                },
                {
                  "name": "CustomerOccupation",
                  "rawType": "int64",
                  "type": "integer"
                },
                {
                  "name": "TransactionDuration",
                  "rawType": "float64",
                  "type": "float"
                },
                {
                  "name": "LoginAttempts",
                  "rawType": "float64",
                  "type": "float"
                },
                {
                  "name": "AccountBalance",
                  "rawType": "float64",
                  "type": "float"
                },
                {
                  "name": "TransactionDate",
                  "rawType": "int64",
                  "type": "integer"
                },
                {
                  "name": "AmountBin",
                  "rawType": "int64",
                  "type": "integer"
                },
                {
                  "name": "AgeBin",
                  "rawType": "int64",
                  "type": "integer"
                },
                {
                  "name": "Cluster",
                  "rawType": "int32",
                  "type": "integer"
                }
              ],
              "ref": "828b2ced-7603-4259-978b-c6fa57f82d76",
              "rows": [
                [
                  "0",
                  "0.007207441957422414",
                  "680",
                  "1",
                  "36",
                  "0",
                  "0.8387096774193548",
                  "0",
                  "0.24482758620689654",
                  "0.0",
                  "0.33683185966818",
                  "105",
                  "1",
                  "1",
                  "3"
                ],
                [
                  "1",
                  "0.1959402767282487",
                  "1178",
                  "1",
                  "15",
                  "0",
                  "0.8064516129032258",
                  "0",
                  "0.45172413793103444",
                  "0.0",
                  "0.9180546275595326",
                  "192",
                  "2",
                  "1",
                  "3"
                ],
                [
                  "2",
                  "0.0656799645621075",
                  "1262",
                  "1",
                  "23",
                  "2",
                  "0.016129032258064557",
                  "3",
                  "0.1586206896551724",
                  "0.0",
                  "0.06863734931174438",
                  "41",
                  "1",
                  "2",
                  "2"
                ],
                [
                  "3",
                  "0.0960158428225239",
                  "818",
                  "1",
                  "33",
                  "2",
                  "0.12903225806451613",
                  "3",
                  "0.05172413793103449",
                  "0.0",
                  "0.569197956003802",
                  "163",
                  "1",
                  "2",
                  "3"
                ],
                [
                  "5",
                  "0.04788805795137713",
                  "635",
                  "1",
                  "28",
                  "0",
                  "0.0",
                  "3",
                  "0.5586206896551724",
                  "0.0",
                  "0.045737843102722775",
                  "13",
                  "1",
                  "2",
                  "3"
                ]
              ],
              "shape": {
                "columns": 14,
                "rows": 5
              }
            },
            "text/html": [
              "<div>\n",
              "<style scoped>\n",
              "    .dataframe tbody tr th:only-of-type {\n",
              "        vertical-align: middle;\n",
              "    }\n",
              "\n",
              "    .dataframe tbody tr th {\n",
              "        vertical-align: top;\n",
              "    }\n",
              "\n",
              "    .dataframe thead th {\n",
              "        text-align: right;\n",
              "    }\n",
              "</style>\n",
              "<table border=\"1\" class=\"dataframe\">\n",
              "  <thead>\n",
              "    <tr style=\"text-align: right;\">\n",
              "      <th></th>\n",
              "      <th>TransactionAmount</th>\n",
              "      <th>PreviousTransactionDate</th>\n",
              "      <th>TransactionType</th>\n",
              "      <th>Location</th>\n",
              "      <th>Channel</th>\n",
              "      <th>CustomerAge</th>\n",
              "      <th>CustomerOccupation</th>\n",
              "      <th>TransactionDuration</th>\n",
              "      <th>LoginAttempts</th>\n",
              "      <th>AccountBalance</th>\n",
              "      <th>TransactionDate</th>\n",
              "      <th>AmountBin</th>\n",
              "      <th>AgeBin</th>\n",
              "      <th>Cluster</th>\n",
              "    </tr>\n",
              "  </thead>\n",
              "  <tbody>\n",
              "    <tr>\n",
              "      <th>0</th>\n",
              "      <td>0.007207</td>\n",
              "      <td>680</td>\n",
              "      <td>1</td>\n",
              "      <td>36</td>\n",
              "      <td>0</td>\n",
              "      <td>0.838710</td>\n",
              "      <td>0</td>\n",
              "      <td>0.244828</td>\n",
              "      <td>0.0</td>\n",
              "      <td>0.336832</td>\n",
              "      <td>105</td>\n",
              "      <td>1</td>\n",
              "      <td>1</td>\n",
              "      <td>3</td>\n",
              "    </tr>\n",
              "    <tr>\n",
              "      <th>1</th>\n",
              "      <td>0.195940</td>\n",
              "      <td>1178</td>\n",
              "      <td>1</td>\n",
              "      <td>15</td>\n",
              "      <td>0</td>\n",
              "      <td>0.806452</td>\n",
              "      <td>0</td>\n",
              "      <td>0.451724</td>\n",
              "      <td>0.0</td>\n",
              "      <td>0.918055</td>\n",
              "      <td>192</td>\n",
              "      <td>2</td>\n",
              "      <td>1</td>\n",
              "      <td>3</td>\n",
              "    </tr>\n",
              "    <tr>\n",
              "      <th>2</th>\n",
              "      <td>0.065680</td>\n",
              "      <td>1262</td>\n",
              "      <td>1</td>\n",
              "      <td>23</td>\n",
              "      <td>2</td>\n",
              "      <td>0.016129</td>\n",
              "      <td>3</td>\n",
              "      <td>0.158621</td>\n",
              "      <td>0.0</td>\n",
              "      <td>0.068637</td>\n",
              "      <td>41</td>\n",
              "      <td>1</td>\n",
              "      <td>2</td>\n",
              "      <td>2</td>\n",
              "    </tr>\n",
              "    <tr>\n",
              "      <th>3</th>\n",
              "      <td>0.096016</td>\n",
              "      <td>818</td>\n",
              "      <td>1</td>\n",
              "      <td>33</td>\n",
              "      <td>2</td>\n",
              "      <td>0.129032</td>\n",
              "      <td>3</td>\n",
              "      <td>0.051724</td>\n",
              "      <td>0.0</td>\n",
              "      <td>0.569198</td>\n",
              "      <td>163</td>\n",
              "      <td>1</td>\n",
              "      <td>2</td>\n",
              "      <td>3</td>\n",
              "    </tr>\n",
              "    <tr>\n",
              "      <th>5</th>\n",
              "      <td>0.047888</td>\n",
              "      <td>635</td>\n",
              "      <td>1</td>\n",
              "      <td>28</td>\n",
              "      <td>0</td>\n",
              "      <td>0.000000</td>\n",
              "      <td>3</td>\n",
              "      <td>0.558621</td>\n",
              "      <td>0.0</td>\n",
              "      <td>0.045738</td>\n",
              "      <td>13</td>\n",
              "      <td>1</td>\n",
              "      <td>2</td>\n",
              "      <td>3</td>\n",
              "    </tr>\n",
              "  </tbody>\n",
              "</table>\n",
              "</div>"
            ],
            "text/plain": [
              "   TransactionAmount  PreviousTransactionDate  TransactionType  Location  \\\n",
              "0           0.007207                      680                1        36   \n",
              "1           0.195940                     1178                1        15   \n",
              "2           0.065680                     1262                1        23   \n",
              "3           0.096016                      818                1        33   \n",
              "5           0.047888                      635                1        28   \n",
              "\n",
              "   Channel  CustomerAge  CustomerOccupation  TransactionDuration  \\\n",
              "0        0     0.838710                   0             0.244828   \n",
              "1        0     0.806452                   0             0.451724   \n",
              "2        2     0.016129                   3             0.158621   \n",
              "3        2     0.129032                   3             0.051724   \n",
              "5        0     0.000000                   3             0.558621   \n",
              "\n",
              "   LoginAttempts  AccountBalance  TransactionDate  AmountBin  AgeBin  Cluster  \n",
              "0            0.0        0.336832              105          1       1        3  \n",
              "1            0.0        0.918055              192          2       1        3  \n",
              "2            0.0        0.068637               41          1       2        2  \n",
              "3            0.0        0.569198              163          1       2        3  \n",
              "5            0.0        0.045738               13          1       2        3  "
            ]
          },
          "execution_count": 21,
          "metadata": {},
          "output_type": "execute_result"
        }
      ],
      "source": [
        "# Menggunakan algoritma K-Means Clustering\n",
        "\n",
        "model_kmeans = KMeans(n_clusters=visualizer.elbow_value_, random_state=42)\n",
        "df['Cluster'] = model_kmeans.fit_predict(X)\n",
        "df.head()"
      ]
    },
    {
      "cell_type": "markdown",
      "metadata": {
        "id": "6aVHlHyU1Dcx"
      },
      "source": [
        "Jalankan cell code ini untuk menyimpan model kamu."
      ]
    },
    {
      "cell_type": "code",
      "execution_count": 22,
      "metadata": {
        "id": "D7AvYmQnY_fI"
      },
      "outputs": [
        {
          "data": {
            "text/plain": [
              "['model_clustering.h5']"
            ]
          },
          "execution_count": 22,
          "metadata": {},
          "output_type": "execute_result"
        }
      ],
      "source": [
        "import joblib\n",
        "\n",
        "# Menyimpan model menggunakan joblib\n",
        "joblib.dump(model_kmeans, \"model_clustering.h5\")"
      ]
    },
    {
      "cell_type": "markdown",
      "metadata": {
        "id": "YDOD9eVMx3mC"
      },
      "source": [
        "(Opsional) Membangun Model Clustering [Skilled]\n",
        "\n",
        "**Biarkan kosong jika tidak menerapkan kriteria skilled**"
      ]
    },
    {
      "cell_type": "code",
      "execution_count": 23,
      "metadata": {
        "id": "SELNsH5O4Oyn"
      },
      "outputs": [
        {
          "name": "stdout",
          "output_type": "stream",
          "text": [
            "Silhouette Score: 0.498003725635364\n"
          ]
        }
      ],
      "source": [
        "from sklearn.metrics import silhouette_score\n",
        "\n",
        "# Menghitung dan menampilkan nilai Silhouette Score.\n",
        "score = silhouette_score(X, df['Cluster'])\n",
        "print(\"Silhouette Score:\", score)"
      ]
    },
    {
      "cell_type": "code",
      "execution_count": 24,
      "metadata": {
        "id": "K4EbkaXg4QAN"
      },
      "outputs": [
        {
          "data": {
            "image/png": "[encoded data removed]",
            "text/plain": [
              "<Figure size 800x600 with 1 Axes>"
            ]
          },
          "metadata": {},
          "output_type": "display_data"
        }
      ],
      "source": [
        "from sklearn.decomposition import PCA\n",
        "\n",
        "# Mengurangi dimensi data ke 2D menggunakan PCA\n",
        "pca = PCA(n_components=2)\n",
        "X_pca = pca.fit_transform(X)\n",
        "\n",
        "# Membuat visualisasi hasil clustering\n",
        "plt.figure(figsize=(8,6))\n",
        "sns.scatterplot(x=X_pca[:,0], y=X_pca[:,1], hue=df['Cluster'], palette='Set1')\n",
        "plt.title('Cluster Visualization (PCA)')\n",
        "plt.xlabel('PCA1')\n",
        "plt.ylabel('PCA2')\n",
        "plt.show()"
      ]
    },
    {
      "cell_type": "markdown",
      "metadata": {
        "id": "uloMRbnsyAbB"
      },
      "source": [
        "(Opsional) Membangun Model Clustering [Advanced]\n",
        "\n",
        "**Biarkan kosong jika tidak menerapkan kriteria advanced**"
      ]
    },
    {
      "cell_type": "code",
      "execution_count": 25,
      "metadata": {
        "id": "SgfOarXX4SD2"
      },
      "outputs": [
        {
          "data": {
            "application/vnd.microsoft.datawrangler.viewer.v0+json": {
              "columns": [
                {
                  "name": "index",
                  "rawType": "int64",
                  "type": "integer"
                },
                {
                  "name": "PCA1",
                  "rawType": "float64",
                  "type": "float"
                },
                {
                  "name": "PCA2",
                  "rawType": "float64",
                  "type": "float"
                }
              ],
              "ref": "50cd0ee4-9885-48ea-a47e-4233db9a3d82",
              "rows": [
                [
                  "0",
                  "-573.5714005372139",
                  "-76.74710880136017"
                ],
                [
                  "1",
                  "-75.68534981543485",
                  "10.953960989668275"
                ],
                [
                  "2",
                  "8.505552431988463",
                  "-139.96968727158628"
                ],
                [
                  "3",
                  "-435.64482459563703",
                  "-18.564173783198925"
                ],
                [
                  "4",
                  "-618.4578284384912",
                  "-168.77396701460685"
                ]
              ],
              "shape": {
                "columns": 2,
                "rows": 5
              }
            },
            "text/html": [
              "<div>\n",
              "<style scoped>\n",
              "    .dataframe tbody tr th:only-of-type {\n",
              "        vertical-align: middle;\n",
              "    }\n",
              "\n",
              "    .dataframe tbody tr th {\n",
              "        vertical-align: top;\n",
              "    }\n",
              "\n",
              "    .dataframe thead th {\n",
              "        text-align: right;\n",
              "    }\n",
              "</style>\n",
              "<table border=\"1\" class=\"dataframe\">\n",
              "  <thead>\n",
              "    <tr style=\"text-align: right;\">\n",
              "      <th></th>\n",
              "      <th>PCA1</th>\n",
              "      <th>PCA2</th>\n",
              "    </tr>\n",
              "  </thead>\n",
              "  <tbody>\n",
              "    <tr>\n",
              "      <th>0</th>\n",
              "      <td>-573.571401</td>\n",
              "      <td>-76.747109</td>\n",
              "    </tr>\n",
              "    <tr>\n",
              "      <th>1</th>\n",
              "      <td>-75.685350</td>\n",
              "      <td>10.953961</td>\n",
              "    </tr>\n",
              "    <tr>\n",
              "      <th>2</th>\n",
              "      <td>8.505552</td>\n",
              "      <td>-139.969687</td>\n",
              "    </tr>\n",
              "    <tr>\n",
              "      <th>3</th>\n",
              "      <td>-435.644825</td>\n",
              "      <td>-18.564174</td>\n",
              "    </tr>\n",
              "    <tr>\n",
              "      <th>4</th>\n",
              "      <td>-618.457828</td>\n",
              "      <td>-168.773967</td>\n",
              "    </tr>\n",
              "  </tbody>\n",
              "</table>\n",
              "</div>"
            ],
            "text/plain": [
              "         PCA1        PCA2\n",
              "0 -573.571401  -76.747109\n",
              "1  -75.685350   10.953961\n",
              "2    8.505552 -139.969687\n",
              "3 -435.644825  -18.564174\n",
              "4 -618.457828 -168.773967"
            ]
          },
          "execution_count": 25,
          "metadata": {},
          "output_type": "execute_result"
        }
      ],
      "source": [
        "# Membangun model menggunakan PCA.\n",
        "pca = PCA(n_components=2)\n",
        "X_pca = pca.fit_transform(X)\n",
        "# Menyimpan data PCA sebagai Dataframe dengan nama PCA_<numbers>\n",
        "data_final = pd.DataFrame(X_pca, columns=['PCA1', 'PCA2'])\n",
        "# Pastikan kamu membangun model Kmeans baru dengan data yang sudah dimodifikasi melalui PCA.\n",
        "model_pca_kmeans = KMeans(n_clusters=visualizer.elbow_value_, random_state=42)\n",
        "model_pca_kmeans.fit(data_final)\n",
        "data_final.head()"
      ]
    },
    {
      "cell_type": "code",
      "execution_count": 26,
      "metadata": {
        "id": "uKvJy9Ky4VB3"
      },
      "outputs": [
        {
          "data": {
            "text/plain": [
              "['PCA_model_clustering.h5']"
            ]
          },
          "execution_count": 26,
          "metadata": {},
          "output_type": "execute_result"
        }
      ],
      "source": [
        "# Simpan model PCA sebagai perbandingan dengan menjalankan cell code ini joblib.dump(model,\"PCA_model_clustering.h5\")\n",
        "# Pastikan yang disimpan model yang sudah melalui .fit berdasarkan dataset yang sudah dilakukan PCA\n",
        "joblib.dump(model_pca_kmeans, \"PCA_model_clustering.h5\")"
      ]
    },
    {
      "cell_type": "markdown",
      "metadata": {
        "id": "anlTI9Trb7F6"
      },
      "source": [
        "# **5. Interpretasi Cluster**"
      ]
    },
    {
      "cell_type": "markdown",
      "metadata": {
        "id": "JfgVMEBDS3KG"
      },
      "source": [
        "## **a. Interpretasi Hasil Clustering**\n",
        "1. **Contoh Interpretasi:**\n",
        "- **Cluster 1: (Nasabah Bertransaksi dan Pendapatan Besar)**:\n",
        "  - **Rata-rata (mean) Annual Income:** 0.953 (48,260)\n",
        "  - **Rata-rata (mean) Spending Score:** 0.8 (56.48)\n",
        "  - **Analisis:** Cluster ini mencakup pelanggan dengan pendapatan tahunan tinggi dan tingkat pengeluaran yang cukup tinggi. Pelanggan dalam cluster ini cenderung memiliki daya beli yang tinggi dan mereka lebih cenderung untuk membelanjakan sebagian besar pendapatan mereka. Sehingga rekomendasi pada kelompok nasabah ini adalah dengan menawarkan produk-produk investasi atau perbankan yang berkualitas tinggi.\n"
      ]
    },
    {
      "cell_type": "code",
      "execution_count": 27,
      "metadata": {
        "id": "Qmpy4fmV64Mi"
      },
      "outputs": [
        {
          "data": {
            "application/vnd.microsoft.datawrangler.viewer.v0+json": {
              "columns": [
                {
                  "name": "Cluster",
                  "rawType": "int32",
                  "type": "integer"
                },
                {
                  "name": "('TransactionAmount', 'mean')",
                  "rawType": "float64",
                  "type": "float"
                },
                {
                  "name": "('TransactionAmount', 'min')",
                  "rawType": "float64",
                  "type": "float"
                },
                {
                  "name": "('TransactionAmount', 'max')",
                  "rawType": "float64",
                  "type": "float"
                },
                {
                  "name": "('PreviousTransactionDate', 'mean')",
                  "rawType": "float64",
                  "type": "float"
                },
                {
                  "name": "('PreviousTransactionDate', 'min')",
                  "rawType": "int64",
                  "type": "integer"
                },
                {
                  "name": "('PreviousTransactionDate', 'max')",
                  "rawType": "int64",
                  "type": "integer"
                },
                {
                  "name": "('TransactionType', 'mean')",
                  "rawType": "float64",
                  "type": "float"
                },
                {
                  "name": "('TransactionType', 'min')",
                  "rawType": "int64",
                  "type": "integer"
                },
                {
                  "name": "('TransactionType', 'max')",
                  "rawType": "int64",
                  "type": "integer"
                },
                {
                  "name": "('Location', 'mean')",
                  "rawType": "float64",
                  "type": "float"
                },
                {
                  "name": "('Location', 'min')",
                  "rawType": "int64",
                  "type": "integer"
                },
                {
                  "name": "('Location', 'max')",
                  "rawType": "int64",
                  "type": "integer"
                },
                {
                  "name": "('Channel', 'mean')",
                  "rawType": "float64",
                  "type": "float"
                },
                {
                  "name": "('Channel', 'min')",
                  "rawType": "int64",
                  "type": "integer"
                },
                {
                  "name": "('Channel', 'max')",
                  "rawType": "int64",
                  "type": "integer"
                },
                {
                  "name": "('CustomerAge', 'mean')",
                  "rawType": "float64",
                  "type": "float"
                },
                {
                  "name": "('CustomerAge', 'min')",
                  "rawType": "float64",
                  "type": "float"
                },
                {
                  "name": "('CustomerAge', 'max')",
                  "rawType": "float64",
                  "type": "float"
                },
                {
                  "name": "('CustomerOccupation', 'mean')",
                  "rawType": "float64",
                  "type": "float"
                },
                {
                  "name": "('CustomerOccupation', 'min')",
                  "rawType": "int64",
                  "type": "integer"
                },
                {
                  "name": "('CustomerOccupation', 'max')",
                  "rawType": "int64",
                  "type": "integer"
                },
                {
                  "name": "('TransactionDuration', 'mean')",
                  "rawType": "float64",
                  "type": "float"
                },
                {
                  "name": "('TransactionDuration', 'min')",
                  "rawType": "float64",
                  "type": "float"
                },
                {
                  "name": "('TransactionDuration', 'max')",
                  "rawType": "float64",
                  "type": "float"
                },
                {
                  "name": "('LoginAttempts', 'mean')",
                  "rawType": "float64",
                  "type": "float"
                },
                {
                  "name": "('LoginAttempts', 'min')",
                  "rawType": "float64",
                  "type": "float"
                },
                {
                  "name": "('LoginAttempts', 'max')",
                  "rawType": "float64",
                  "type": "float"
                },
                {
                  "name": "('AccountBalance', 'mean')",
                  "rawType": "float64",
                  "type": "float"
                },
                {
                  "name": "('AccountBalance', 'min')",
                  "rawType": "float64",
                  "type": "float"
                },
                {
                  "name": "('AccountBalance', 'max')",
                  "rawType": "float64",
                  "type": "float"
                },
                {
                  "name": "('TransactionDate', 'mean')",
                  "rawType": "float64",
                  "type": "float"
                },
                {
                  "name": "('TransactionDate', 'min')",
                  "rawType": "int64",
                  "type": "integer"
                },
                {
                  "name": "('TransactionDate', 'max')",
                  "rawType": "int64",
                  "type": "integer"
                },
                {
                  "name": "('AmountBin', 'mean')",
                  "rawType": "float64",
                  "type": "float"
                },
                {
                  "name": "('AmountBin', 'min')",
                  "rawType": "int64",
                  "type": "integer"
                },
                {
                  "name": "('AmountBin', 'max')",
                  "rawType": "int64",
                  "type": "integer"
                },
                {
                  "name": "('AgeBin', 'mean')",
                  "rawType": "float64",
                  "type": "float"
                },
                {
                  "name": "('AgeBin', 'min')",
                  "rawType": "int64",
                  "type": "integer"
                },
                {
                  "name": "('AgeBin', 'max')",
                  "rawType": "int64",
                  "type": "integer"
                }
              ],
              "ref": "3ddb6f56-2384-49d6-bc6b-eabd4454bead",
              "rows": [
                [
                  "0",
                  "0.13277026935053993",
                  "0.00031268728665607005",
                  "0.4573312140083904",
                  "310.75373134328356",
                  "0",
                  "619",
                  "0.8097014925373134",
                  "0",
                  "2",
                  "21.690298507462686",
                  "0",
                  "43",
                  "0.9832089552238806",
                  "0",
                  "3",
                  "0.4081307173808378",
                  "0.0",
                  "1.0",
                  "1.5130597014925373",
                  "0",
                  "4",
                  "0.3665851775604735",
                  "0.0",
                  "0.996551724137931",
                  "0.0",
                  "0.0",
                  "0.0",
                  "0.32855591315855415",
                  "6.385807643341252e-05",
                  "0.9976332180302944",
                  "186.83768656716418",
                  "0",
                  "360",
                  "1.1492537313432836",
                  "0",
                  "2",
                  "1.1194029850746268",
                  "0",
                  "2"
                ],
                [
                  "1",
                  "0.12757759095178361",
                  "0.0",
                  "0.4672225551762774",
                  "2195.7034358047017",
                  "1873",
                  "2485",
                  "0.7721518987341772",
                  "0",
                  "2",
                  "21.632911392405063",
                  "0",
                  "43",
                  "1.0632911392405062",
                  "0",
                  "3",
                  "0.4354255381205157",
                  "0.0",
                  "1.0",
                  "1.5027124773960217",
                  "0",
                  "4",
                  "0.37850595497911077",
                  "0.0",
                  "1.0",
                  "0.0",
                  "0.0",
                  "0.0",
                  "0.34535036296731303",
                  "0.0029744419812405137",
                  "1.0",
                  "182.00904159132008",
                  "0",
                  "360",
                  "1.1808318264014466",
                  "0",
                  "2",
                  "1.0325497287522605",
                  "0",
                  "2"
                ],
                [
                  "2",
                  "0.14070829176153957",
                  "3.1268728665607005e-05",
                  "0.4638090522969487",
                  "1550.0874316939892",
                  "1236",
                  "1872",
                  "0.7905282331511839",
                  "0",
                  "2",
                  "21.11111111111111",
                  "0",
                  "43",
                  "0.9908925318761385",
                  "0",
                  "3",
                  "0.43830424819319586",
                  "0.0",
                  "1.0",
                  "1.5828779599271403",
                  "0",
                  "4",
                  "0.38056026631493",
                  "0.0",
                  "0.996551724137931",
                  "0.0",
                  "0.0",
                  "0.0",
                  "0.3349090538674997",
                  "0.0",
                  "0.9971438635077311",
                  "181.73406193078324",
                  "0",
                  "360",
                  "1.1402550091074681",
                  "0",
                  "2",
                  "1.0728597449908925",
                  "0",
                  "2"
                ],
                [
                  "3",
                  "0.1318452829043007",
                  "0.0005993172994241342",
                  "0.47055788623394224",
                  "926.5614678899083",
                  "620",
                  "1235",
                  "0.7834862385321101",
                  "0",
                  "2",
                  "21.460550458715595",
                  "0",
                  "43",
                  "1.0110091743119265",
                  "0",
                  "3",
                  "0.4361349511689849",
                  "0.0",
                  "1.0",
                  "1.528440366972477",
                  "0",
                  "4",
                  "0.37472951597595694",
                  "0.0",
                  "0.9931034482758622",
                  "0.0",
                  "0.0",
                  "0.0",
                  "0.3352155540932916",
                  "0.0003770987460962544",
                  "0.9950869612562968",
                  "173.39633027522936",
                  "0",
                  "360",
                  "1.146788990825688",
                  "0",
                  "2",
                  "1.0880733944954128",
                  "0",
                  "2"
                ]
              ],
              "shape": {
                "columns": 39,
                "rows": 4
              }
            },
            "text/html": [
              "<div>\n",
              "<style scoped>\n",
              "    .dataframe tbody tr th:only-of-type {\n",
              "        vertical-align: middle;\n",
              "    }\n",
              "\n",
              "    .dataframe tbody tr th {\n",
              "        vertical-align: top;\n",
              "    }\n",
              "\n",
              "    .dataframe thead tr th {\n",
              "        text-align: left;\n",
              "    }\n",
              "\n",
              "    .dataframe thead tr:last-of-type th {\n",
              "        text-align: right;\n",
              "    }\n",
              "</style>\n",
              "<table border=\"1\" class=\"dataframe\">\n",
              "  <thead>\n",
              "    <tr>\n",
              "      <th></th>\n",
              "      <th colspan=\"3\" halign=\"left\">TransactionAmount</th>\n",
              "      <th colspan=\"3\" halign=\"left\">PreviousTransactionDate</th>\n",
              "      <th colspan=\"3\" halign=\"left\">TransactionType</th>\n",
              "      <th>Location</th>\n",
              "      <th>...</th>\n",
              "      <th>AccountBalance</th>\n",
              "      <th colspan=\"3\" halign=\"left\">TransactionDate</th>\n",
              "      <th colspan=\"3\" halign=\"left\">AmountBin</th>\n",
              "      <th colspan=\"3\" halign=\"left\">AgeBin</th>\n",
              "    </tr>\n",
              "    <tr>\n",
              "      <th></th>\n",
              "      <th>mean</th>\n",
              "      <th>min</th>\n",
              "      <th>max</th>\n",
              "      <th>mean</th>\n",
              "      <th>min</th>\n",
              "      <th>max</th>\n",
              "      <th>mean</th>\n",
              "      <th>min</th>\n",
              "      <th>max</th>\n",
              "      <th>mean</th>\n",
              "      <th>...</th>\n",
              "      <th>max</th>\n",
              "      <th>mean</th>\n",
              "      <th>min</th>\n",
              "      <th>max</th>\n",
              "      <th>mean</th>\n",
              "      <th>min</th>\n",
              "      <th>max</th>\n",
              "      <th>mean</th>\n",
              "      <th>min</th>\n",
              "      <th>max</th>\n",
              "    </tr>\n",
              "    <tr>\n",
              "      <th>Cluster</th>\n",
              "      <th></th>\n",
              "      <th></th>\n",
              "      <th></th>\n",
              "      <th></th>\n",
              "      <th></th>\n",
              "      <th></th>\n",
              "      <th></th>\n",
              "      <th></th>\n",
              "      <th></th>\n",
              "      <th></th>\n",
              "      <th></th>\n",
              "      <th></th>\n",
              "      <th></th>\n",
              "      <th></th>\n",
              "      <th></th>\n",
              "      <th></th>\n",
              "      <th></th>\n",
              "      <th></th>\n",
              "      <th></th>\n",
              "      <th></th>\n",
              "      <th></th>\n",
              "    </tr>\n",
              "  </thead>\n",
              "  <tbody>\n",
              "    <tr>\n",
              "      <th>0</th>\n",
              "      <td>0.132770</td>\n",
              "      <td>0.000313</td>\n",
              "      <td>0.457331</td>\n",
              "      <td>310.753731</td>\n",
              "      <td>0</td>\n",
              "      <td>619</td>\n",
              "      <td>0.809701</td>\n",
              "      <td>0</td>\n",
              "      <td>2</td>\n",
              "      <td>21.690299</td>\n",
              "      <td>...</td>\n",
              "      <td>0.997633</td>\n",
              "      <td>186.837687</td>\n",
              "      <td>0</td>\n",
              "      <td>360</td>\n",
              "      <td>1.149254</td>\n",
              "      <td>0</td>\n",
              "      <td>2</td>\n",
              "      <td>1.119403</td>\n",
              "      <td>0</td>\n",
              "      <td>2</td>\n",
              "    </tr>\n",
              "    <tr>\n",
              "      <th>1</th>\n",
              "      <td>0.127578</td>\n",
              "      <td>0.000000</td>\n",
              "      <td>0.467223</td>\n",
              "      <td>2195.703436</td>\n",
              "      <td>1873</td>\n",
              "      <td>2485</td>\n",
              "      <td>0.772152</td>\n",
              "      <td>0</td>\n",
              "      <td>2</td>\n",
              "      <td>21.632911</td>\n",
              "      <td>...</td>\n",
              "      <td>1.000000</td>\n",
              "      <td>182.009042</td>\n",
              "      <td>0</td>\n",
              "      <td>360</td>\n",
              "      <td>1.180832</td>\n",
              "      <td>0</td>\n",
              "      <td>2</td>\n",
              "      <td>1.032550</td>\n",
              "      <td>0</td>\n",
              "      <td>2</td>\n",
              "    </tr>\n",
              "    <tr>\n",
              "      <th>2</th>\n",
              "      <td>0.140708</td>\n",
              "      <td>0.000031</td>\n",
              "      <td>0.463809</td>\n",
              "      <td>1550.087432</td>\n",
              "      <td>1236</td>\n",
              "      <td>1872</td>\n",
              "      <td>0.790528</td>\n",
              "      <td>0</td>\n",
              "      <td>2</td>\n",
              "      <td>21.111111</td>\n",
              "      <td>...</td>\n",
              "      <td>0.997144</td>\n",
              "      <td>181.734062</td>\n",
              "      <td>0</td>\n",
              "      <td>360</td>\n",
              "      <td>1.140255</td>\n",
              "      <td>0</td>\n",
              "      <td>2</td>\n",
              "      <td>1.072860</td>\n",
              "      <td>0</td>\n",
              "      <td>2</td>\n",
              "    </tr>\n",
              "    <tr>\n",
              "      <th>3</th>\n",
              "      <td>0.131845</td>\n",
              "      <td>0.000599</td>\n",
              "      <td>0.470558</td>\n",
              "      <td>926.561468</td>\n",
              "      <td>620</td>\n",
              "      <td>1235</td>\n",
              "      <td>0.783486</td>\n",
              "      <td>0</td>\n",
              "      <td>2</td>\n",
              "      <td>21.460550</td>\n",
              "      <td>...</td>\n",
              "      <td>0.995087</td>\n",
              "      <td>173.396330</td>\n",
              "      <td>0</td>\n",
              "      <td>360</td>\n",
              "      <td>1.146789</td>\n",
              "      <td>0</td>\n",
              "      <td>2</td>\n",
              "      <td>1.088073</td>\n",
              "      <td>0</td>\n",
              "      <td>2</td>\n",
              "    </tr>\n",
              "  </tbody>\n",
              "</table>\n",
              "<p>4 rows × 39 columns</p>\n",
              "</div>"
            ],
            "text/plain": [
              "        TransactionAmount                     PreviousTransactionDate        \\\n",
              "                     mean       min       max                    mean   min   \n",
              "Cluster                                                                       \n",
              "0                0.132770  0.000313  0.457331              310.753731     0   \n",
              "1                0.127578  0.000000  0.467223             2195.703436  1873   \n",
              "2                0.140708  0.000031  0.463809             1550.087432  1236   \n",
              "3                0.131845  0.000599  0.470558              926.561468   620   \n",
              "\n",
              "              TransactionType           Location  ... AccountBalance  \\\n",
              "          max            mean min max       mean  ...            max   \n",
              "Cluster                                           ...                  \n",
              "0         619        0.809701   0   2  21.690299  ...       0.997633   \n",
              "1        2485        0.772152   0   2  21.632911  ...       1.000000   \n",
              "2        1872        0.790528   0   2  21.111111  ...       0.997144   \n",
              "3        1235        0.783486   0   2  21.460550  ...       0.995087   \n",
              "\n",
              "        TransactionDate          AmountBin            AgeBin          \n",
              "                   mean min  max      mean min max      mean min max  \n",
              "Cluster                                                               \n",
              "0            186.837687   0  360  1.149254   0   2  1.119403   0   2  \n",
              "1            182.009042   0  360  1.180832   0   2  1.032550   0   2  \n",
              "2            181.734062   0  360  1.140255   0   2  1.072860   0   2  \n",
              "3            173.396330   0  360  1.146789   0   2  1.088073   0   2  \n",
              "\n",
              "[4 rows x 39 columns]"
            ]
          },
          "execution_count": 27,
          "metadata": {},
          "output_type": "execute_result"
        }
      ],
      "source": [
        "# Menampilkan analisis deskriptif minimal mean, min dan max untuk fitur numerik per cluster.\n",
        "# Silakan menambahkan fungsi agregasi lainnya untuk experience lebih baik.\n",
        "# pastikan output menghasilkan agregasi dan groupby bersamaan dengan mean, min, dan max.\n",
        "\n",
        "df.groupby('Cluster').agg(['mean', 'min', 'max'])"
      ]
    },
    {
      "cell_type": "markdown",
      "metadata": {
        "id": "KrjMI_dG6tnb"
      },
      "source": [
        "## Menjelaskan karakteristik tiap cluster berdasarkan rentangnya.\n",
        "1. **Cluster 1: (___)**:\n",
        "  - **Rata-rata (mean) <Fitur>:** <Sebelum inverse> <Setelah inverse>\n",
        "  - **Analisis:** Cluster ini ..."
      ]
    },
    {
      "cell_type": "markdown",
      "metadata": {
        "id": "jaYP1fx5VgWO"
      },
      "source": [
        "# **6. Mengeksport Data**\n",
        "\n",
        "1. Simpan nama kolom hasil clustering dengan nama `Target`.\n",
        "2. Simpan hasilnya ke dalam file CSV menggunakan function `to_csv()`."
      ]
    },
    {
      "cell_type": "code",
      "execution_count": 28,
      "metadata": {
        "id": "3FInN10U5S4f"
      },
      "outputs": [
        {
          "data": {
            "application/vnd.microsoft.datawrangler.viewer.v0+json": {
              "columns": [
                {
                  "name": "index",
                  "rawType": "int64",
                  "type": "integer"
                },
                {
                  "name": "TransactionAmount",
                  "rawType": "float64",
                  "type": "float"
                },
                {
                  "name": "PreviousTransactionDate",
                  "rawType": "int64",
                  "type": "integer"
                },
                {
                  "name": "TransactionType",
                  "rawType": "int64",
                  "type": "integer"
                },
                {
                  "name": "Location",
                  "rawType": "int64",
                  "type": "integer"
                },
                {
                  "name": "Channel",
                  "rawType": "int64",
                  "type": "integer"
                },
                {
                  "name": "CustomerAge",
                  "rawType": "float64",
                  "type": "float"
                },
                {
                  "name": "CustomerOccupation",
                  "rawType": "int64",
                  "type": "integer"
                },
                {
                  "name": "TransactionDuration",
                  "rawType": "float64",
                  "type": "float"
                },
                {
                  "name": "LoginAttempts",
                  "rawType": "float64",
                  "type": "float"
                },
                {
                  "name": "AccountBalance",
                  "rawType": "float64",
                  "type": "float"
                },
                {
                  "name": "TransactionDate",
                  "rawType": "int64",
                  "type": "integer"
                },
                {
                  "name": "AmountBin",
                  "rawType": "int64",
                  "type": "integer"
                },
                {
                  "name": "AgeBin",
                  "rawType": "int64",
                  "type": "integer"
                },
                {
                  "name": "Target",
                  "rawType": "int32",
                  "type": "integer"
                }
              ],
              "ref": "89cfa72b-184b-4e5d-bef5-6f51f8c0ad7e",
              "rows": [
                [
                  "0",
                  "0.007207441957422414",
                  "680",
                  "1",
                  "36",
                  "0",
                  "0.8387096774193548",
                  "0",
                  "0.24482758620689654",
                  "0.0",
                  "0.33683185966818",
                  "105",
                  "1",
                  "1",
                  "3"
                ],
                [
                  "1",
                  "0.1959402767282487",
                  "1178",
                  "1",
                  "15",
                  "0",
                  "0.8064516129032258",
                  "0",
                  "0.45172413793103444",
                  "0.0",
                  "0.9180546275595326",
                  "192",
                  "2",
                  "1",
                  "3"
                ],
                [
                  "2",
                  "0.0656799645621075",
                  "1262",
                  "1",
                  "23",
                  "2",
                  "0.016129032258064557",
                  "3",
                  "0.1586206896551724",
                  "0.0",
                  "0.06863734931174438",
                  "41",
                  "1",
                  "2",
                  "2"
                ],
                [
                  "3",
                  "0.0960158428225239",
                  "818",
                  "1",
                  "33",
                  "2",
                  "0.12903225806451613",
                  "3",
                  "0.05172413793103449",
                  "0.0",
                  "0.569197956003802",
                  "163",
                  "1",
                  "2",
                  "3"
                ],
                [
                  "5",
                  "0.04788805795137713",
                  "635",
                  "1",
                  "28",
                  "0",
                  "0.0",
                  "3",
                  "0.5586206896551724",
                  "0.0",
                  "0.045737843102722775",
                  "13",
                  "1",
                  "2",
                  "3"
                ]
              ],
              "shape": {
                "columns": 14,
                "rows": 5
              }
            },
            "text/html": [
              "<div>\n",
              "<style scoped>\n",
              "    .dataframe tbody tr th:only-of-type {\n",
              "        vertical-align: middle;\n",
              "    }\n",
              "\n",
              "    .dataframe tbody tr th {\n",
              "        vertical-align: top;\n",
              "    }\n",
              "\n",
              "    .dataframe thead th {\n",
              "        text-align: right;\n",
              "    }\n",
              "</style>\n",
              "<table border=\"1\" class=\"dataframe\">\n",
              "  <thead>\n",
              "    <tr style=\"text-align: right;\">\n",
              "      <th></th>\n",
              "      <th>TransactionAmount</th>\n",
              "      <th>PreviousTransactionDate</th>\n",
              "      <th>TransactionType</th>\n",
              "      <th>Location</th>\n",
              "      <th>Channel</th>\n",
              "      <th>CustomerAge</th>\n",
              "      <th>CustomerOccupation</th>\n",
              "      <th>TransactionDuration</th>\n",
              "      <th>LoginAttempts</th>\n",
              "      <th>AccountBalance</th>\n",
              "      <th>TransactionDate</th>\n",
              "      <th>AmountBin</th>\n",
              "      <th>AgeBin</th>\n",
              "      <th>Target</th>\n",
              "    </tr>\n",
              "  </thead>\n",
              "  <tbody>\n",
              "    <tr>\n",
              "      <th>0</th>\n",
              "      <td>0.007207</td>\n",
              "      <td>680</td>\n",
              "      <td>1</td>\n",
              "      <td>36</td>\n",
              "      <td>0</td>\n",
              "      <td>0.838710</td>\n",
              "      <td>0</td>\n",
              "      <td>0.244828</td>\n",
              "      <td>0.0</td>\n",
              "      <td>0.336832</td>\n",
              "      <td>105</td>\n",
              "      <td>1</td>\n",
              "      <td>1</td>\n",
              "      <td>3</td>\n",
              "    </tr>\n",
              "    <tr>\n",
              "      <th>1</th>\n",
              "      <td>0.195940</td>\n",
              "      <td>1178</td>\n",
              "      <td>1</td>\n",
              "      <td>15</td>\n",
              "      <td>0</td>\n",
              "      <td>0.806452</td>\n",
              "      <td>0</td>\n",
              "      <td>0.451724</td>\n",
              "      <td>0.0</td>\n",
              "      <td>0.918055</td>\n",
              "      <td>192</td>\n",
              "      <td>2</td>\n",
              "      <td>1</td>\n",
              "      <td>3</td>\n",
              "    </tr>\n",
              "    <tr>\n",
              "      <th>2</th>\n",
              "      <td>0.065680</td>\n",
              "      <td>1262</td>\n",
              "      <td>1</td>\n",
              "      <td>23</td>\n",
              "      <td>2</td>\n",
              "      <td>0.016129</td>\n",
              "      <td>3</td>\n",
              "      <td>0.158621</td>\n",
              "      <td>0.0</td>\n",
              "      <td>0.068637</td>\n",
              "      <td>41</td>\n",
              "      <td>1</td>\n",
              "      <td>2</td>\n",
              "      <td>2</td>\n",
              "    </tr>\n",
              "    <tr>\n",
              "      <th>3</th>\n",
              "      <td>0.096016</td>\n",
              "      <td>818</td>\n",
              "      <td>1</td>\n",
              "      <td>33</td>\n",
              "      <td>2</td>\n",
              "      <td>0.129032</td>\n",
              "      <td>3</td>\n",
              "      <td>0.051724</td>\n",
              "      <td>0.0</td>\n",
              "      <td>0.569198</td>\n",
              "      <td>163</td>\n",
              "      <td>1</td>\n",
              "      <td>2</td>\n",
              "      <td>3</td>\n",
              "    </tr>\n",
              "    <tr>\n",
              "      <th>5</th>\n",
              "      <td>0.047888</td>\n",
              "      <td>635</td>\n",
              "      <td>1</td>\n",
              "      <td>28</td>\n",
              "      <td>0</td>\n",
              "      <td>0.000000</td>\n",
              "      <td>3</td>\n",
              "      <td>0.558621</td>\n",
              "      <td>0.0</td>\n",
              "      <td>0.045738</td>\n",
              "      <td>13</td>\n",
              "      <td>1</td>\n",
              "      <td>2</td>\n",
              "      <td>3</td>\n",
              "    </tr>\n",
              "  </tbody>\n",
              "</table>\n",
              "</div>"
            ],
            "text/plain": [
              "   TransactionAmount  PreviousTransactionDate  TransactionType  Location  \\\n",
              "0           0.007207                      680                1        36   \n",
              "1           0.195940                     1178                1        15   \n",
              "2           0.065680                     1262                1        23   \n",
              "3           0.096016                      818                1        33   \n",
              "5           0.047888                      635                1        28   \n",
              "\n",
              "   Channel  CustomerAge  CustomerOccupation  TransactionDuration  \\\n",
              "0        0     0.838710                   0             0.244828   \n",
              "1        0     0.806452                   0             0.451724   \n",
              "2        2     0.016129                   3             0.158621   \n",
              "3        2     0.129032                   3             0.051724   \n",
              "5        0     0.000000                   3             0.558621   \n",
              "\n",
              "   LoginAttempts  AccountBalance  TransactionDate  AmountBin  AgeBin  Target  \n",
              "0            0.0        0.336832              105          1       1       3  \n",
              "1            0.0        0.918055              192          2       1       3  \n",
              "2            0.0        0.068637               41          1       2       2  \n",
              "3            0.0        0.569198              163          1       2       3  \n",
              "5            0.0        0.045738               13          1       2       3  "
            ]
          },
          "execution_count": 28,
          "metadata": {},
          "output_type": "execute_result"
        }
      ],
      "source": [
        "# Pastikan nama kolom clustering sudah diubah menjadi Target\n",
        "\n",
        "df = df.rename(columns={'Cluster': 'Target'})\n",
        "df.head()"
      ]
    },
    {
      "cell_type": "code",
      "execution_count": 29,
      "metadata": {
        "id": "fkbg_o80aRSH"
      },
      "outputs": [],
      "source": [
        "# Simpan Data\n",
        "df.to_csv('data_clustering.csv', index=False)"
      ]
    },
    {
      "cell_type": "markdown",
      "metadata": {
        "id": "rz1vFc2yzFPD"
      },
      "source": [
        "(Opsional) Interpretasi Hasil Clustering [Skilled]\n",
        "\n",
        "**Biarkan kosong jika tidak menerapkan kriteria skilled**"
      ]
    },
    {
      "cell_type": "code",
      "execution_count": 30,
      "metadata": {
        "id": "OMcRV15y_hH3"
      },
      "outputs": [
        {
          "data": {
            "application/vnd.microsoft.datawrangler.viewer.v0+json": {
              "columns": [
                {
                  "name": "index",
                  "rawType": "int64",
                  "type": "integer"
                },
                {
                  "name": "TransactionAmount",
                  "rawType": "float64",
                  "type": "float"
                },
                {
                  "name": "PreviousTransactionDate",
                  "rawType": "int64",
                  "type": "integer"
                },
                {
                  "name": "TransactionType",
                  "rawType": "int64",
                  "type": "integer"
                },
                {
                  "name": "Location",
                  "rawType": "int64",
                  "type": "integer"
                },
                {
                  "name": "Channel",
                  "rawType": "int64",
                  "type": "integer"
                },
                {
                  "name": "CustomerAge",
                  "rawType": "float64",
                  "type": "float"
                },
                {
                  "name": "CustomerOccupation",
                  "rawType": "int64",
                  "type": "integer"
                },
                {
                  "name": "TransactionDuration",
                  "rawType": "float64",
                  "type": "float"
                },
                {
                  "name": "LoginAttempts",
                  "rawType": "float64",
                  "type": "float"
                },
                {
                  "name": "AccountBalance",
                  "rawType": "float64",
                  "type": "float"
                },
                {
                  "name": "TransactionDate",
                  "rawType": "int64",
                  "type": "integer"
                },
                {
                  "name": "AmountBin",
                  "rawType": "int64",
                  "type": "integer"
                },
                {
                  "name": "AgeBin",
                  "rawType": "int64",
                  "type": "integer"
                },
                {
                  "name": "Target",
                  "rawType": "int32",
                  "type": "integer"
                }
              ],
              "ref": "a0db179b-c9bf-4cf6-84af-37c50485a1ff",
              "rows": [
                [
                  "0",
                  "14.09",
                  "680",
                  "1",
                  "36",
                  "0",
                  "70.0",
                  "0",
                  "81.0",
                  "1.0",
                  "5112.21",
                  "105",
                  "1",
                  "1",
                  "3"
                ],
                [
                  "1",
                  "376.24",
                  "1178",
                  "1",
                  "15",
                  "0",
                  "68.0",
                  "0",
                  "141.0",
                  "1.0",
                  "13758.91",
                  "192",
                  "2",
                  "1",
                  "3"
                ],
                [
                  "2",
                  "126.29",
                  "1262",
                  "1",
                  "23",
                  "2",
                  "19.0",
                  "3",
                  "56.0",
                  "1.0",
                  "1122.35",
                  "41",
                  "1",
                  "2",
                  "2"
                ],
                [
                  "3",
                  "184.5",
                  "818",
                  "1",
                  "33",
                  "2",
                  "26.0",
                  "3",
                  "25.000000000000004",
                  "1.0",
                  "8569.06",
                  "163",
                  "1",
                  "2",
                  "3"
                ],
                [
                  "5",
                  "92.15",
                  "635",
                  "1",
                  "28",
                  "0",
                  "18.0",
                  "3",
                  "172.0",
                  "1.0",
                  "781.68",
                  "13",
                  "1",
                  "2",
                  "3"
                ]
              ],
              "shape": {
                "columns": 14,
                "rows": 5
              }
            },
            "text/html": [
              "<div>\n",
              "<style scoped>\n",
              "    .dataframe tbody tr th:only-of-type {\n",
              "        vertical-align: middle;\n",
              "    }\n",
              "\n",
              "    .dataframe tbody tr th {\n",
              "        vertical-align: top;\n",
              "    }\n",
              "\n",
              "    .dataframe thead th {\n",
              "        text-align: right;\n",
              "    }\n",
              "</style>\n",
              "<table border=\"1\" class=\"dataframe\">\n",
              "  <thead>\n",
              "    <tr style=\"text-align: right;\">\n",
              "      <th></th>\n",
              "      <th>TransactionAmount</th>\n",
              "      <th>PreviousTransactionDate</th>\n",
              "      <th>TransactionType</th>\n",
              "      <th>Location</th>\n",
              "      <th>Channel</th>\n",
              "      <th>CustomerAge</th>\n",
              "      <th>CustomerOccupation</th>\n",
              "      <th>TransactionDuration</th>\n",
              "      <th>LoginAttempts</th>\n",
              "      <th>AccountBalance</th>\n",
              "      <th>TransactionDate</th>\n",
              "      <th>AmountBin</th>\n",
              "      <th>AgeBin</th>\n",
              "      <th>Target</th>\n",
              "    </tr>\n",
              "  </thead>\n",
              "  <tbody>\n",
              "    <tr>\n",
              "      <th>0</th>\n",
              "      <td>14.09</td>\n",
              "      <td>680</td>\n",
              "      <td>1</td>\n",
              "      <td>36</td>\n",
              "      <td>0</td>\n",
              "      <td>70.0</td>\n",
              "      <td>0</td>\n",
              "      <td>81.0</td>\n",
              "      <td>1.0</td>\n",
              "      <td>5112.21</td>\n",
              "      <td>105</td>\n",
              "      <td>1</td>\n",
              "      <td>1</td>\n",
              "      <td>3</td>\n",
              "    </tr>\n",
              "    <tr>\n",
              "      <th>1</th>\n",
              "      <td>376.24</td>\n",
              "      <td>1178</td>\n",
              "      <td>1</td>\n",
              "      <td>15</td>\n",
              "      <td>0</td>\n",
              "      <td>68.0</td>\n",
              "      <td>0</td>\n",
              "      <td>141.0</td>\n",
              "      <td>1.0</td>\n",
              "      <td>13758.91</td>\n",
              "      <td>192</td>\n",
              "      <td>2</td>\n",
              "      <td>1</td>\n",
              "      <td>3</td>\n",
              "    </tr>\n",
              "    <tr>\n",
              "      <th>2</th>\n",
              "      <td>126.29</td>\n",
              "      <td>1262</td>\n",
              "      <td>1</td>\n",
              "      <td>23</td>\n",
              "      <td>2</td>\n",
              "      <td>19.0</td>\n",
              "      <td>3</td>\n",
              "      <td>56.0</td>\n",
              "      <td>1.0</td>\n",
              "      <td>1122.35</td>\n",
              "      <td>41</td>\n",
              "      <td>1</td>\n",
              "      <td>2</td>\n",
              "      <td>2</td>\n",
              "    </tr>\n",
              "    <tr>\n",
              "      <th>3</th>\n",
              "      <td>184.50</td>\n",
              "      <td>818</td>\n",
              "      <td>1</td>\n",
              "      <td>33</td>\n",
              "      <td>2</td>\n",
              "      <td>26.0</td>\n",
              "      <td>3</td>\n",
              "      <td>25.0</td>\n",
              "      <td>1.0</td>\n",
              "      <td>8569.06</td>\n",
              "      <td>163</td>\n",
              "      <td>1</td>\n",
              "      <td>2</td>\n",
              "      <td>3</td>\n",
              "    </tr>\n",
              "    <tr>\n",
              "      <th>5</th>\n",
              "      <td>92.15</td>\n",
              "      <td>635</td>\n",
              "      <td>1</td>\n",
              "      <td>28</td>\n",
              "      <td>0</td>\n",
              "      <td>18.0</td>\n",
              "      <td>3</td>\n",
              "      <td>172.0</td>\n",
              "      <td>1.0</td>\n",
              "      <td>781.68</td>\n",
              "      <td>13</td>\n",
              "      <td>1</td>\n",
              "      <td>2</td>\n",
              "      <td>3</td>\n",
              "    </tr>\n",
              "  </tbody>\n",
              "</table>\n",
              "</div>"
            ],
            "text/plain": [
              "   TransactionAmount  PreviousTransactionDate  TransactionType  Location  \\\n",
              "0              14.09                      680                1        36   \n",
              "1             376.24                     1178                1        15   \n",
              "2             126.29                     1262                1        23   \n",
              "3             184.50                      818                1        33   \n",
              "5              92.15                      635                1        28   \n",
              "\n",
              "   Channel  CustomerAge  CustomerOccupation  TransactionDuration  \\\n",
              "0        0         70.0                   0                 81.0   \n",
              "1        0         68.0                   0                141.0   \n",
              "2        2         19.0                   3                 56.0   \n",
              "3        2         26.0                   3                 25.0   \n",
              "5        0         18.0                   3                172.0   \n",
              "\n",
              "   LoginAttempts  AccountBalance  TransactionDate  AmountBin  AgeBin  Target  \n",
              "0            1.0         5112.21              105          1       1       3  \n",
              "1            1.0        13758.91              192          2       1       3  \n",
              "2            1.0         1122.35               41          1       2       2  \n",
              "3            1.0         8569.06              163          1       2       3  \n",
              "5            1.0          781.68               13          1       2       3  "
            ]
          },
          "execution_count": 30,
          "metadata": {},
          "output_type": "execute_result"
        }
      ],
      "source": [
        "df_inverse = df.copy()\n",
        "df_inverse[numerical_cols] = scaler.inverse_transform(df_inverse[numerical_cols])\n",
        "df_inverse.head()"
      ]
    },
    {
      "cell_type": "code",
      "execution_count": 31,
      "metadata": {
        "id": "wzIddcB6XjrC"
      },
      "outputs": [
        {
          "data": {
            "application/vnd.microsoft.datawrangler.viewer.v0+json": {
              "columns": [
                {
                  "name": "index",
                  "rawType": "int64",
                  "type": "integer"
                },
                {
                  "name": "TransactionAmount",
                  "rawType": "float64",
                  "type": "float"
                },
                {
                  "name": "PreviousTransactionDate",
                  "rawType": "object",
                  "type": "string"
                },
                {
                  "name": "TransactionType",
                  "rawType": "object",
                  "type": "string"
                },
                {
                  "name": "Location",
                  "rawType": "object",
                  "type": "string"
                },
                {
                  "name": "Channel",
                  "rawType": "object",
                  "type": "string"
                },
                {
                  "name": "CustomerAge",
                  "rawType": "float64",
                  "type": "float"
                },
                {
                  "name": "CustomerOccupation",
                  "rawType": "object",
                  "type": "string"
                },
                {
                  "name": "TransactionDuration",
                  "rawType": "float64",
                  "type": "float"
                },
                {
                  "name": "LoginAttempts",
                  "rawType": "float64",
                  "type": "float"
                },
                {
                  "name": "AccountBalance",
                  "rawType": "float64",
                  "type": "float"
                },
                {
                  "name": "TransactionDate",
                  "rawType": "object",
                  "type": "string"
                },
                {
                  "name": "AmountBin",
                  "rawType": "int64",
                  "type": "integer"
                },
                {
                  "name": "AgeBin",
                  "rawType": "int64",
                  "type": "integer"
                },
                {
                  "name": "Target",
                  "rawType": "int32",
                  "type": "integer"
                }
              ],
              "ref": "94ac9391-9b52-4b85-8a1d-8333167327dd",
              "rows": [
                [
                  "0",
                  "14.09",
                  "2023-04-11 16:29:14",
                  "Debit",
                  "San Diego",
                  "ATM",
                  "70.0",
                  "Doctor",
                  "81.0",
                  "1.0",
                  "5112.21",
                  "2024-11-04 8:08:08",
                  "1",
                  "1",
                  "3"
                ],
                [
                  "1",
                  "376.24",
                  "2023-06-27 16:44:19",
                  "Debit",
                  "Houston",
                  "ATM",
                  "68.0",
                  "Doctor",
                  "141.0",
                  "1.0",
                  "13758.91",
                  "2024-11-04 8:09:35",
                  "2",
                  "1",
                  "3"
                ],
                [
                  "2",
                  "126.29",
                  "2023-07-10 18:16:08",
                  "Debit",
                  "Mesa",
                  "Online",
                  "19.0",
                  "Student",
                  "56.0",
                  "1.0",
                  "1122.35",
                  "2024-11-04 8:07:04",
                  "1",
                  "2",
                  "2"
                ],
                [
                  "3",
                  "184.5",
                  "2023-05-05 16:32:11",
                  "Debit",
                  "Raleigh",
                  "Online",
                  "26.0",
                  "Student",
                  "25.000000000000004",
                  "1.0",
                  "8569.06",
                  "2024-11-04 8:09:06",
                  "1",
                  "2",
                  "3"
                ],
                [
                  "5",
                  "92.15",
                  "2023-04-03 17:15:01",
                  "Debit",
                  "Oklahoma City",
                  "ATM",
                  "18.0",
                  "Student",
                  "172.0",
                  "1.0",
                  "781.68",
                  "2024-11-04 8:06:36",
                  "1",
                  "2",
                  "3"
                ]
              ],
              "shape": {
                "columns": 14,
                "rows": 5
              }
            },
            "text/html": [
              "<div>\n",
              "<style scoped>\n",
              "    .dataframe tbody tr th:only-of-type {\n",
              "        vertical-align: middle;\n",
              "    }\n",
              "\n",
              "    .dataframe tbody tr th {\n",
              "        vertical-align: top;\n",
              "    }\n",
              "\n",
              "    .dataframe thead th {\n",
              "        text-align: right;\n",
              "    }\n",
              "</style>\n",
              "<table border=\"1\" class=\"dataframe\">\n",
              "  <thead>\n",
              "    <tr style=\"text-align: right;\">\n",
              "      <th></th>\n",
              "      <th>TransactionAmount</th>\n",
              "      <th>PreviousTransactionDate</th>\n",
              "      <th>TransactionType</th>\n",
              "      <th>Location</th>\n",
              "      <th>Channel</th>\n",
              "      <th>CustomerAge</th>\n",
              "      <th>CustomerOccupation</th>\n",
              "      <th>TransactionDuration</th>\n",
              "      <th>LoginAttempts</th>\n",
              "      <th>AccountBalance</th>\n",
              "      <th>TransactionDate</th>\n",
              "      <th>AmountBin</th>\n",
              "      <th>AgeBin</th>\n",
              "      <th>Target</th>\n",
              "    </tr>\n",
              "  </thead>\n",
              "  <tbody>\n",
              "    <tr>\n",
              "      <th>0</th>\n",
              "      <td>14.09</td>\n",
              "      <td>2023-04-11 16:29:14</td>\n",
              "      <td>Debit</td>\n",
              "      <td>San Diego</td>\n",
              "      <td>ATM</td>\n",
              "      <td>70.0</td>\n",
              "      <td>Doctor</td>\n",
              "      <td>81.0</td>\n",
              "      <td>1.0</td>\n",
              "      <td>5112.21</td>\n",
              "      <td>2024-11-04 8:08:08</td>\n",
              "      <td>1</td>\n",
              "      <td>1</td>\n",
              "      <td>3</td>\n",
              "    </tr>\n",
              "    <tr>\n",
              "      <th>1</th>\n",
              "      <td>376.24</td>\n",
              "      <td>2023-06-27 16:44:19</td>\n",
              "      <td>Debit</td>\n",
              "      <td>Houston</td>\n",
              "      <td>ATM</td>\n",
              "      <td>68.0</td>\n",
              "      <td>Doctor</td>\n",
              "      <td>141.0</td>\n",
              "      <td>1.0</td>\n",
              "      <td>13758.91</td>\n",
              "      <td>2024-11-04 8:09:35</td>\n",
              "      <td>2</td>\n",
              "      <td>1</td>\n",
              "      <td>3</td>\n",
              "    </tr>\n",
              "    <tr>\n",
              "      <th>2</th>\n",
              "      <td>126.29</td>\n",
              "      <td>2023-07-10 18:16:08</td>\n",
              "      <td>Debit</td>\n",
              "      <td>Mesa</td>\n",
              "      <td>Online</td>\n",
              "      <td>19.0</td>\n",
              "      <td>Student</td>\n",
              "      <td>56.0</td>\n",
              "      <td>1.0</td>\n",
              "      <td>1122.35</td>\n",
              "      <td>2024-11-04 8:07:04</td>\n",
              "      <td>1</td>\n",
              "      <td>2</td>\n",
              "      <td>2</td>\n",
              "    </tr>\n",
              "    <tr>\n",
              "      <th>3</th>\n",
              "      <td>184.50</td>\n",
              "      <td>2023-05-05 16:32:11</td>\n",
              "      <td>Debit</td>\n",
              "      <td>Raleigh</td>\n",
              "      <td>Online</td>\n",
              "      <td>26.0</td>\n",
              "      <td>Student</td>\n",
              "      <td>25.0</td>\n",
              "      <td>1.0</td>\n",
              "      <td>8569.06</td>\n",
              "      <td>2024-11-04 8:09:06</td>\n",
              "      <td>1</td>\n",
              "      <td>2</td>\n",
              "      <td>3</td>\n",
              "    </tr>\n",
              "    <tr>\n",
              "      <th>5</th>\n",
              "      <td>92.15</td>\n",
              "      <td>2023-04-03 17:15:01</td>\n",
              "      <td>Debit</td>\n",
              "      <td>Oklahoma City</td>\n",
              "      <td>ATM</td>\n",
              "      <td>18.0</td>\n",
              "      <td>Student</td>\n",
              "      <td>172.0</td>\n",
              "      <td>1.0</td>\n",
              "      <td>781.68</td>\n",
              "      <td>2024-11-04 8:06:36</td>\n",
              "      <td>1</td>\n",
              "      <td>2</td>\n",
              "      <td>3</td>\n",
              "    </tr>\n",
              "  </tbody>\n",
              "</table>\n",
              "</div>"
            ],
            "text/plain": [
              "   TransactionAmount PreviousTransactionDate TransactionType       Location  \\\n",
              "0              14.09     2023-04-11 16:29:14           Debit      San Diego   \n",
              "1             376.24     2023-06-27 16:44:19           Debit        Houston   \n",
              "2             126.29     2023-07-10 18:16:08           Debit           Mesa   \n",
              "3             184.50     2023-05-05 16:32:11           Debit        Raleigh   \n",
              "5              92.15     2023-04-03 17:15:01           Debit  Oklahoma City   \n",
              "\n",
              "  Channel  CustomerAge CustomerOccupation  TransactionDuration  LoginAttempts  \\\n",
              "0     ATM         70.0             Doctor                 81.0            1.0   \n",
              "1     ATM         68.0             Doctor                141.0            1.0   \n",
              "2  Online         19.0            Student                 56.0            1.0   \n",
              "3  Online         26.0            Student                 25.0            1.0   \n",
              "5     ATM         18.0            Student                172.0            1.0   \n",
              "\n",
              "   AccountBalance     TransactionDate  AmountBin  AgeBin  Target  \n",
              "0         5112.21  2024-11-04 8:08:08          1       1       3  \n",
              "1        13758.91  2024-11-04 8:09:35          2       1       3  \n",
              "2         1122.35  2024-11-04 8:07:04          1       2       2  \n",
              "3         8569.06  2024-11-04 8:09:06          1       2       3  \n",
              "5          781.68  2024-11-04 8:06:36          1       2       3  "
            ]
          },
          "execution_count": 31,
          "metadata": {},
          "output_type": "execute_result"
        }
      ],
      "source": [
        "# inverse dataset yang sudah diencode ke kategori aslinya.\n",
        "# Lengkapi kode berikut jika ingin menerapkan kriteria ini (silakan hapus simbol pagar pada kode yang akan digunakan.)\n",
        "# for ___ in categorical_cols:\n",
        "#     ___ = encoders[col]\n",
        "#     df[col] = ___.inverse_transform(df_inverse[col].astype(int))\n",
        "# tampilkan dataset yang sudah di-inverse\n",
        "# ___.head()\n",
        "\n",
        "# Contoh: jika ingin inverse encoding, simpan encoder saat encoding\n",
        "# encoders = {}\n",
        "# for col in categorical_cols:\n",
        "#     le = LabelEncoder()\n",
        "#     df_inverse[col] = le.fit(df[col]).inverse_transform(df_inverse[col].astype(int))\n",
        "\n",
        "# Inverse transform kolom kategorikal menggunakan encoder yang sudah disimpan\n",
        "if 'encoders' in locals() and encoders:\n",
        "    for col in categorical_cols:\n",
        "        df_inverse[col] = encoders[col].inverse_transform(df_inverse[col].astype(int))\n",
        "df_inverse.head()"
      ]
    },
    {
      "cell_type": "code",
      "execution_count": 32,
      "metadata": {
        "id": "omCabiXBTklU"
      },
      "outputs": [
        {
          "data": {
            "text/plain": [
              "(       TransactionAmount               CustomerAge              \\\n",
              "                     mean   min     max        mean   min   max   \n",
              " Target                                                           \n",
              " 0             255.026231  0.86  877.81   43.304104  18.0  80.0   \n",
              " 1             245.062260  0.26  896.79   44.996383  18.0  80.0   \n",
              " 2             270.258106  0.32  890.24   45.174863  18.0  80.0   \n",
              " 3             253.251321  1.41  903.19   45.040367  18.0  80.0   \n",
              " \n",
              "        TransactionDuration              LoginAttempts  ... AccountBalance  \\\n",
              "                       mean   min    max          mean  ...            max   \n",
              " Target                                                 ...                  \n",
              " 0               116.309701  10.0  299.0           1.0  ...       14942.78   \n",
              " 1               119.766727  10.0  300.0           1.0  ...       14977.99   \n",
              " 2               120.362477  10.0  299.0           1.0  ...       14935.50   \n",
              " 3               118.671560  10.0  298.0           1.0  ...       14904.90   \n",
              " \n",
              "        AmountBin            AgeBin         Target          \n",
              "             mean min max      mean min max   mean min max  \n",
              " Target                                                     \n",
              " 0       1.149254   0   2  1.119403   0   2    0.0   0   0  \n",
              " 1       1.180832   0   2  1.032550   0   2    1.0   1   1  \n",
              " 2       1.140255   0   2  1.072860   0   2    2.0   2   2  \n",
              " 3       1.146789   0   2  1.088073   0   2    3.0   3   3  \n",
              " \n",
              " [4 rows x 24 columns],\n",
              "        PreviousTransactionDate TransactionType Location Channel  \\\n",
              " Target                                                            \n",
              " 0          2023-01-02 16:00:06           Debit   Boston  Branch   \n",
              " 1          2023-12-28 17:31:03           Debit     Mesa  Branch   \n",
              " 2          2023-07-07 16:11:38           Debit  Houston     ATM   \n",
              " 3          2023-04-03 16:07:53           Debit   Fresno  Branch   \n",
              " \n",
              "        CustomerOccupation     TransactionDate  \n",
              " Target                                         \n",
              " 0                 Student  2024-11-04 8:10:23  \n",
              " 1                  Doctor  2024-11-04 8:07:50  \n",
              " 2                 Student  2024-11-04 8:07:32  \n",
              " 3                 Student  2024-11-04 8:09:03  )"
            ]
          },
          "execution_count": 32,
          "metadata": {},
          "output_type": "execute_result"
        }
      ],
      "source": [
        "# Lakukan analisis deskriptif minimal mean, min dan max untuk fitur numerik dan mode untuk kategorikal seperti pada basic tetapi menggunakan data yang sudah diinverse.\n",
        "# pastikan output menghasilkan agregasi dan groupby bersamaan dengan mean, min, dan max kembali setelah melakukan inverse.\n",
        "\n",
        "# Pisahkan kolom numerik dan kategorikal\n",
        "num_cols = df_inverse.select_dtypes(include=[np.number]).columns.tolist()\n",
        "cat_cols = df_inverse.select_dtypes(include=['object', 'category']).columns.tolist()\n",
        "\n",
        "agg_num = df_inverse.groupby('Target')[num_cols].agg(['mean', 'min', 'max'])\n",
        "\n",
        "agg_cat = df_inverse.groupby('Target')[cat_cols].agg(lambda x: x.mode().iloc[0] if not x.mode().empty else np.nan) if cat_cols else None\n",
        "\n",
        "agg_num, agg_cat"
      ]
    },
    {
      "cell_type": "markdown",
      "metadata": {
        "id": "WcaT8sxVzLs6"
      },
      "source": [
        "## Menjelaskan karakteristik tiap cluster berdasarkan rentangnya setelah inverse.\n",
        "1. **Cluster 1: (___)**:\n",
        "  - **Rata-rata (mean) <Fitur>:** <Sebelum inverse> <Setelah inverse>\n",
        "  - **Analisis:** Cluster ini ..."
      ]
    },
    {
      "cell_type": "markdown",
      "metadata": {
        "id": "jSd6vZslzatv"
      },
      "source": [
        "(Opsional) Interpretasi Hasil Clustering [Advanced]\n",
        "\n",
        "**Biarkan kosong jika tidak menerapkan kriteria advanced**"
      ]
    },
    {
      "cell_type": "code",
      "execution_count": 33,
      "metadata": {
        "id": "4mGIyUZ2zRCP"
      },
      "outputs": [
        {
          "data": {
            "application/vnd.microsoft.datawrangler.viewer.v0+json": {
              "columns": [
                {
                  "name": "index",
                  "rawType": "int64",
                  "type": "integer"
                },
                {
                  "name": "TransactionAmount",
                  "rawType": "float64",
                  "type": "float"
                },
                {
                  "name": "PreviousTransactionDate",
                  "rawType": "object",
                  "type": "string"
                },
                {
                  "name": "TransactionType",
                  "rawType": "object",
                  "type": "string"
                },
                {
                  "name": "Location",
                  "rawType": "object",
                  "type": "string"
                },
                {
                  "name": "Channel",
                  "rawType": "object",
                  "type": "string"
                },
                {
                  "name": "CustomerAge",
                  "rawType": "float64",
                  "type": "float"
                },
                {
                  "name": "CustomerOccupation",
                  "rawType": "object",
                  "type": "string"
                },
                {
                  "name": "TransactionDuration",
                  "rawType": "float64",
                  "type": "float"
                },
                {
                  "name": "LoginAttempts",
                  "rawType": "float64",
                  "type": "float"
                },
                {
                  "name": "AccountBalance",
                  "rawType": "float64",
                  "type": "float"
                },
                {
                  "name": "TransactionDate",
                  "rawType": "object",
                  "type": "string"
                },
                {
                  "name": "AmountBin",
                  "rawType": "int64",
                  "type": "integer"
                },
                {
                  "name": "AgeBin",
                  "rawType": "int64",
                  "type": "integer"
                },
                {
                  "name": "Target",
                  "rawType": "int32",
                  "type": "integer"
                }
              ],
              "ref": "63f679dc-747f-4683-b85c-4c58c02dc1a6",
              "rows": [
                [
                  "0",
                  "14.09",
                  "2023-04-11 16:29:14",
                  "Debit",
                  "San Diego",
                  "ATM",
                  "70.0",
                  "Doctor",
                  "81.0",
                  "1.0",
                  "5112.21",
                  "2024-11-04 8:08:08",
                  "1",
                  "1",
                  "3"
                ],
                [
                  "1",
                  "376.24",
                  "2023-06-27 16:44:19",
                  "Debit",
                  "Houston",
                  "ATM",
                  "68.0",
                  "Doctor",
                  "141.0",
                  "1.0",
                  "13758.91",
                  "2024-11-04 8:09:35",
                  "2",
                  "1",
                  "3"
                ],
                [
                  "2",
                  "126.29",
                  "2023-07-10 18:16:08",
                  "Debit",
                  "Mesa",
                  "Online",
                  "19.0",
                  "Student",
                  "56.0",
                  "1.0",
                  "1122.35",
                  "2024-11-04 8:07:04",
                  "1",
                  "2",
                  "2"
                ],
                [
                  "3",
                  "184.5",
                  "2023-05-05 16:32:11",
                  "Debit",
                  "Raleigh",
                  "Online",
                  "26.0",
                  "Student",
                  "25.000000000000004",
                  "1.0",
                  "8569.06",
                  "2024-11-04 8:09:06",
                  "1",
                  "2",
                  "3"
                ],
                [
                  "5",
                  "92.15",
                  "2023-04-03 17:15:01",
                  "Debit",
                  "Oklahoma City",
                  "ATM",
                  "18.0",
                  "Student",
                  "172.0",
                  "1.0",
                  "781.68",
                  "2024-11-04 8:06:36",
                  "1",
                  "2",
                  "3"
                ]
              ],
              "shape": {
                "columns": 14,
                "rows": 5
              }
            },
            "text/html": [
              "<div>\n",
              "<style scoped>\n",
              "    .dataframe tbody tr th:only-of-type {\n",
              "        vertical-align: middle;\n",
              "    }\n",
              "\n",
              "    .dataframe tbody tr th {\n",
              "        vertical-align: top;\n",
              "    }\n",
              "\n",
              "    .dataframe thead th {\n",
              "        text-align: right;\n",
              "    }\n",
              "</style>\n",
              "<table border=\"1\" class=\"dataframe\">\n",
              "  <thead>\n",
              "    <tr style=\"text-align: right;\">\n",
              "      <th></th>\n",
              "      <th>TransactionAmount</th>\n",
              "      <th>PreviousTransactionDate</th>\n",
              "      <th>TransactionType</th>\n",
              "      <th>Location</th>\n",
              "      <th>Channel</th>\n",
              "      <th>CustomerAge</th>\n",
              "      <th>CustomerOccupation</th>\n",
              "      <th>TransactionDuration</th>\n",
              "      <th>LoginAttempts</th>\n",
              "      <th>AccountBalance</th>\n",
              "      <th>TransactionDate</th>\n",
              "      <th>AmountBin</th>\n",
              "      <th>AgeBin</th>\n",
              "      <th>Target</th>\n",
              "    </tr>\n",
              "  </thead>\n",
              "  <tbody>\n",
              "    <tr>\n",
              "      <th>0</th>\n",
              "      <td>14.09</td>\n",
              "      <td>2023-04-11 16:29:14</td>\n",
              "      <td>Debit</td>\n",
              "      <td>San Diego</td>\n",
              "      <td>ATM</td>\n",
              "      <td>70.0</td>\n",
              "      <td>Doctor</td>\n",
              "      <td>81.0</td>\n",
              "      <td>1.0</td>\n",
              "      <td>5112.21</td>\n",
              "      <td>2024-11-04 8:08:08</td>\n",
              "      <td>1</td>\n",
              "      <td>1</td>\n",
              "      <td>3</td>\n",
              "    </tr>\n",
              "    <tr>\n",
              "      <th>1</th>\n",
              "      <td>376.24</td>\n",
              "      <td>2023-06-27 16:44:19</td>\n",
              "      <td>Debit</td>\n",
              "      <td>Houston</td>\n",
              "      <td>ATM</td>\n",
              "      <td>68.0</td>\n",
              "      <td>Doctor</td>\n",
              "      <td>141.0</td>\n",
              "      <td>1.0</td>\n",
              "      <td>13758.91</td>\n",
              "      <td>2024-11-04 8:09:35</td>\n",
              "      <td>2</td>\n",
              "      <td>1</td>\n",
              "      <td>3</td>\n",
              "    </tr>\n",
              "    <tr>\n",
              "      <th>2</th>\n",
              "      <td>126.29</td>\n",
              "      <td>2023-07-10 18:16:08</td>\n",
              "      <td>Debit</td>\n",
              "      <td>Mesa</td>\n",
              "      <td>Online</td>\n",
              "      <td>19.0</td>\n",
              "      <td>Student</td>\n",
              "      <td>56.0</td>\n",
              "      <td>1.0</td>\n",
              "      <td>1122.35</td>\n",
              "      <td>2024-11-04 8:07:04</td>\n",
              "      <td>1</td>\n",
              "      <td>2</td>\n",
              "      <td>2</td>\n",
              "    </tr>\n",
              "    <tr>\n",
              "      <th>3</th>\n",
              "      <td>184.50</td>\n",
              "      <td>2023-05-05 16:32:11</td>\n",
              "      <td>Debit</td>\n",
              "      <td>Raleigh</td>\n",
              "      <td>Online</td>\n",
              "      <td>26.0</td>\n",
              "      <td>Student</td>\n",
              "      <td>25.0</td>\n",
              "      <td>1.0</td>\n",
              "      <td>8569.06</td>\n",
              "      <td>2024-11-04 8:09:06</td>\n",
              "      <td>1</td>\n",
              "      <td>2</td>\n",
              "      <td>3</td>\n",
              "    </tr>\n",
              "    <tr>\n",
              "      <th>5</th>\n",
              "      <td>92.15</td>\n",
              "      <td>2023-04-03 17:15:01</td>\n",
              "      <td>Debit</td>\n",
              "      <td>Oklahoma City</td>\n",
              "      <td>ATM</td>\n",
              "      <td>18.0</td>\n",
              "      <td>Student</td>\n",
              "      <td>172.0</td>\n",
              "      <td>1.0</td>\n",
              "      <td>781.68</td>\n",
              "      <td>2024-11-04 8:06:36</td>\n",
              "      <td>1</td>\n",
              "      <td>2</td>\n",
              "      <td>3</td>\n",
              "    </tr>\n",
              "  </tbody>\n",
              "</table>\n",
              "</div>"
            ],
            "text/plain": [
              "   TransactionAmount PreviousTransactionDate TransactionType       Location  \\\n",
              "0              14.09     2023-04-11 16:29:14           Debit      San Diego   \n",
              "1             376.24     2023-06-27 16:44:19           Debit        Houston   \n",
              "2             126.29     2023-07-10 18:16:08           Debit           Mesa   \n",
              "3             184.50     2023-05-05 16:32:11           Debit        Raleigh   \n",
              "5              92.15     2023-04-03 17:15:01           Debit  Oklahoma City   \n",
              "\n",
              "  Channel  CustomerAge CustomerOccupation  TransactionDuration  LoginAttempts  \\\n",
              "0     ATM         70.0             Doctor                 81.0            1.0   \n",
              "1     ATM         68.0             Doctor                141.0            1.0   \n",
              "2  Online         19.0            Student                 56.0            1.0   \n",
              "3  Online         26.0            Student                 25.0            1.0   \n",
              "5     ATM         18.0            Student                172.0            1.0   \n",
              "\n",
              "   AccountBalance     TransactionDate  AmountBin  AgeBin  Target  \n",
              "0         5112.21  2024-11-04 8:08:08          1       1       3  \n",
              "1        13758.91  2024-11-04 8:09:35          2       1       3  \n",
              "2         1122.35  2024-11-04 8:07:04          1       2       2  \n",
              "3         8569.06  2024-11-04 8:09:06          1       2       3  \n",
              "5          781.68  2024-11-04 8:06:36          1       2       3  "
            ]
          },
          "execution_count": 33,
          "metadata": {},
          "output_type": "execute_result"
        }
      ],
      "source": [
        "# Mengintegrasikan kembali data yang telah di-inverse dengan hasil cluster.\n",
        "\n",
        "df_inverse['Target'] = df['Target']\n",
        "df_inverse.head()"
      ]
    },
    {
      "cell_type": "code",
      "execution_count": 34,
      "metadata": {
        "id": "BEASz_Q__jms"
      },
      "outputs": [],
      "source": [
        "# Simpan Data\n",
        "df_inverse.to_csv('data_clustering_inverse.csv', index=False)"
      ]
    },
    {
      "cell_type": "markdown",
      "metadata": {
        "id": "sWOK6TDTL0eH"
      },
      "source": [
        "End of Code."
      ]
    }
  ],
  "metadata": {
    "colab": {
      "provenance": []
    },
    "kernelspec": {
      "display_name": "Python 3",
      "name": "python3"
    },
    "language_info": {
      "codemirror_mode": {
        "name": "ipython",
        "version": 3
      },
      "file_extension": ".py",
      "mimetype": "text/x-python",
      "name": "python",
      "nbconvert_exporter": "python",
      "pygments_lexer": "ipython3",
      "version": "3.11.9"
    }
  },
  "nbformat": 4,
  "nbformat_minor": 0
}
