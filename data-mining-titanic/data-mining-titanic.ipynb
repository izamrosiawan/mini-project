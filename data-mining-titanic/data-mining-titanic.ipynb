{
 "cells": [
  {
   "metadata": {
    "ExecuteTime": {
     "end_time": "2025-06-24T11:39:37.435969Z",
     "start_time": "2025-06-24T11:39:36.998301Z"
    }
   },
   "cell_type": "code",
   "source": [
    "# Penyelesaian Studi Kasus: Prediksi Keselamatan Penumpang Titanic\n",
    "\n",
    "import pandas as pd\n",
    "from sklearn.model_selection import train_test_split\n",
    "from sklearn.ensemble import RandomForestClassifier\n",
    "from sklearn.metrics import accuracy_score, classification_report\n",
    "\n",
    "# 1. Load Data\n",
    "# Ganti path 'titanic.csv' sesuai lokasi file Anda, atau bisa juga pakai link dataset publik\n",
    "try:\n",
    "    df = pd.read_csv('titanic.csv')\n",
    "except FileNotFoundError:\n",
    "    print(\"File titanic.csv tidak ditemukan. Download otomatis sample dataset dari Github ...\")\n",
    "    url = 'https://raw.githubusercontent.com/datasciencedojo/datasets/master/titanic.csv'\n",
    "    df = pd.read_csv(url)\n",
    "    df.to_csv('titanic.csv', index=False)\n",
    "    print(\"File berhasil diunduh dan disimpan sebagai titanic.csv\")\n",
    "\n",
    "# 2. Preprocessing\n",
    "# Mengisi nilai kosong pada kolom 'Age' dan 'Embarked'\n",
    "df['Age'] = df['Age'].fillna(df['Age'].mean())\n",
    "df['Embarked'] = df['Embarked'].fillna(df['Embarked'].mode()[0])\n",
    "\n",
    "# Mengubah data kategorikal menjadi numerik\n",
    "df['Sex'] = df['Sex'].map({'male': 0, 'female': 1})\n",
    "df['Embarked'] = df['Embarked'].map({'S': 0, 'C': 1, 'Q': 2})\n",
    "\n",
    "# 3. Feature Selection\n",
    "features = ['Pclass', 'Sex', 'Age', 'SibSp', 'Parch', 'Fare', 'Embarked']\n",
    "X = df[features]\n",
    "y = df['Survived']\n",
    "\n",
    "# 4. Split Data\n",
    "X_train, X_test, y_train, y_test = train_test_split(X, y, test_size=0.2, random_state=42)\n",
    "\n",
    "# 5. Training Model\n",
    "model = RandomForestClassifier(n_estimators=100, random_state=42)\n",
    "model.fit(X_train, y_train)\n",
    "\n",
    "# 6. Prediksi dan Evaluasi\n",
    "y_pred = model.predict(X_test)\n",
    "print(\"Akurasi:\", accuracy_score(y_test, y_pred))\n",
    "print(\"\\nClassification Report:\\n\", classification_report(y_test, y_pred))\n",
    "\n",
    "# 7. Fitur Penting\n",
    "importances = model.feature_importances_\n",
    "feature_importance = pd.DataFrame({'feature': features, 'importance': importances})\n",
    "print(\"\\nFeature Importance:\")\n",
    "print(feature_importance.sort_values(by=\"importance\", ascending=False))"
   ],
   "id": "83dedfa1d53d1c35",
   "outputs": [
    {
     "name": "stdout",
     "output_type": "stream",
     "text": [
      "Akurasi: 0.8212290502793296\n",
      "\n",
      "Classification Report:\n",
      "               precision    recall  f1-score   support\n",
      "\n",
      "           0       0.83      0.87      0.85       105\n",
      "           1       0.80      0.76      0.78        74\n",
      "\n",
      "    accuracy                           0.82       179\n",
      "   macro avg       0.82      0.81      0.81       179\n",
      "weighted avg       0.82      0.82      0.82       179\n",
      "\n",
      "\n",
      "Feature Importance:\n",
      "    feature  importance\n",
      "5      Fare    0.272032\n",
      "1       Sex    0.266227\n",
      "2       Age    0.252044\n",
      "0    Pclass    0.085496\n",
      "3     SibSp    0.052776\n",
      "4     Parch    0.037304\n",
      "6  Embarked    0.034121\n"
     ]
    }
   ],
   "execution_count": 7
  },
  {
   "metadata": {},
   "cell_type": "code",
   "outputs": [],
   "execution_count": null,
   "source": "",
   "id": "cd87c05142cc07a5"
  }
 ],
 "metadata": {
  "kernelspec": {
   "display_name": "Python 3",
   "language": "python",
   "name": "python3"
  },
  "language_info": {
   "codemirror_mode": {
    "name": "ipython",
    "version": 2
   },
   "file_extension": ".py",
   "mimetype": "text/x-python",
   "name": "python",
   "nbconvert_exporter": "python",
   "pygments_lexer": "ipython2",
   "version": "2.7.6"
  }
 },
 "nbformat": 4,
 "nbformat_minor": 5
}
